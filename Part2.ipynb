{
 "cells": [
  {
   "cell_type": "code",
   "execution_count": 1,
   "metadata": {
    "collapsed": true,
    "pycharm": {
     "name": "#%%\n"
    }
   },
   "outputs": [],
   "source": [
    "import numpy as np\n",
    "import pandas as pd\n",
    "import matplotlib.pyplot as plt\n",
    "import os\n",
    "import gc # garbage collection module to release memory usage in time\n",
    "import time\n",
    "import warnings"
   ]
  },
  {
   "cell_type": "code",
   "execution_count": 28,
   "outputs": [],
   "source": [
    "os.chdir('/Users/Dorothy/Downloads/datashare')\n",
    "warnings.filterwarnings('ignore')\n",
    "%matplotlib inline"
   ],
   "metadata": {
    "collapsed": false,
    "pycharm": {
     "name": "#%%\n"
    }
   }
  },
  {
   "cell_type": "code",
   "execution_count": 29,
   "outputs": [
    {
     "name": "stdout",
     "output_type": "stream",
     "text": [
      "CPU times: total: 45.6 s\n",
      "Wall time: 1min 13s\n"
     ]
    },
    {
     "data": {
      "text/plain": "   permno       DATE       mvel1       RET      prc  SHROUT      beta  \\\n0   10001 2001-01-31   24355.500  0.012821   9.8750    2498  0.037079   \n1   10002 2001-01-31   78332.625  0.088435  10.0000    8526  0.206346   \n2   10012 2001-01-31   39836.000  0.500000   3.0000   20897  2.470629   \n3   10016 2001-01-31  379569.500  0.030726  23.0625   16964  0.449866   \n4   10019 2001-01-31   28945.000  0.071429   3.7500    8270  2.249729   \n\n     betasq     chmom     dolvol  ...  baspread           ill    maxret  \\\n0  0.001375  0.281788   8.395576  ...  0.020711  1.098587e-06  0.027778   \n1  0.042579  0.050021   8.067022  ...  0.033991  6.509871e-06  0.134328   \n2  6.104008 -1.170178  11.360419  ...  0.138777  9.482216e-08  0.129412   \n3  0.202379  0.391222  12.024414  ...  0.054578  5.643552e-08  0.070769   \n4  5.061279  0.203106   9.294773  ...  0.131620  3.206363e-07  0.435897   \n\n     retvol  std_dolvol   std_turn     zerotrade  sic2        bm     bm_ia  \n0  0.017710    0.972710   0.426715  4.200000e+00  49.0  0.868139 -0.104925  \n1  0.054790    1.368962   0.759666  4.200000e+00  60.0  0.680296 -0.152630  \n2  0.075671    0.465917   7.007556  8.756593e-09  36.0  0.061049 -0.397365  \n3  0.040708    1.242227   8.102766  1.833562e-08  38.0  0.287808 -0.227582  \n4  0.120324    0.983488  16.163956  7.497863e-09  38.0  0.552262  0.036872  \n\n[5 rows x 101 columns]",
      "text/html": "<div>\n<style scoped>\n    .dataframe tbody tr th:only-of-type {\n        vertical-align: middle;\n    }\n\n    .dataframe tbody tr th {\n        vertical-align: top;\n    }\n\n    .dataframe thead th {\n        text-align: right;\n    }\n</style>\n<table border=\"1\" class=\"dataframe\">\n  <thead>\n    <tr style=\"text-align: right;\">\n      <th></th>\n      <th>permno</th>\n      <th>DATE</th>\n      <th>mvel1</th>\n      <th>RET</th>\n      <th>prc</th>\n      <th>SHROUT</th>\n      <th>beta</th>\n      <th>betasq</th>\n      <th>chmom</th>\n      <th>dolvol</th>\n      <th>...</th>\n      <th>baspread</th>\n      <th>ill</th>\n      <th>maxret</th>\n      <th>retvol</th>\n      <th>std_dolvol</th>\n      <th>std_turn</th>\n      <th>zerotrade</th>\n      <th>sic2</th>\n      <th>bm</th>\n      <th>bm_ia</th>\n    </tr>\n  </thead>\n  <tbody>\n    <tr>\n      <th>0</th>\n      <td>10001</td>\n      <td>2001-01-31</td>\n      <td>24355.500</td>\n      <td>0.012821</td>\n      <td>9.8750</td>\n      <td>2498</td>\n      <td>0.037079</td>\n      <td>0.001375</td>\n      <td>0.281788</td>\n      <td>8.395576</td>\n      <td>...</td>\n      <td>0.020711</td>\n      <td>1.098587e-06</td>\n      <td>0.027778</td>\n      <td>0.017710</td>\n      <td>0.972710</td>\n      <td>0.426715</td>\n      <td>4.200000e+00</td>\n      <td>49.0</td>\n      <td>0.868139</td>\n      <td>-0.104925</td>\n    </tr>\n    <tr>\n      <th>1</th>\n      <td>10002</td>\n      <td>2001-01-31</td>\n      <td>78332.625</td>\n      <td>0.088435</td>\n      <td>10.0000</td>\n      <td>8526</td>\n      <td>0.206346</td>\n      <td>0.042579</td>\n      <td>0.050021</td>\n      <td>8.067022</td>\n      <td>...</td>\n      <td>0.033991</td>\n      <td>6.509871e-06</td>\n      <td>0.134328</td>\n      <td>0.054790</td>\n      <td>1.368962</td>\n      <td>0.759666</td>\n      <td>4.200000e+00</td>\n      <td>60.0</td>\n      <td>0.680296</td>\n      <td>-0.152630</td>\n    </tr>\n    <tr>\n      <th>2</th>\n      <td>10012</td>\n      <td>2001-01-31</td>\n      <td>39836.000</td>\n      <td>0.500000</td>\n      <td>3.0000</td>\n      <td>20897</td>\n      <td>2.470629</td>\n      <td>6.104008</td>\n      <td>-1.170178</td>\n      <td>11.360419</td>\n      <td>...</td>\n      <td>0.138777</td>\n      <td>9.482216e-08</td>\n      <td>0.129412</td>\n      <td>0.075671</td>\n      <td>0.465917</td>\n      <td>7.007556</td>\n      <td>8.756593e-09</td>\n      <td>36.0</td>\n      <td>0.061049</td>\n      <td>-0.397365</td>\n    </tr>\n    <tr>\n      <th>3</th>\n      <td>10016</td>\n      <td>2001-01-31</td>\n      <td>379569.500</td>\n      <td>0.030726</td>\n      <td>23.0625</td>\n      <td>16964</td>\n      <td>0.449866</td>\n      <td>0.202379</td>\n      <td>0.391222</td>\n      <td>12.024414</td>\n      <td>...</td>\n      <td>0.054578</td>\n      <td>5.643552e-08</td>\n      <td>0.070769</td>\n      <td>0.040708</td>\n      <td>1.242227</td>\n      <td>8.102766</td>\n      <td>1.833562e-08</td>\n      <td>38.0</td>\n      <td>0.287808</td>\n      <td>-0.227582</td>\n    </tr>\n    <tr>\n      <th>4</th>\n      <td>10019</td>\n      <td>2001-01-31</td>\n      <td>28945.000</td>\n      <td>0.071429</td>\n      <td>3.7500</td>\n      <td>8270</td>\n      <td>2.249729</td>\n      <td>5.061279</td>\n      <td>0.203106</td>\n      <td>9.294773</td>\n      <td>...</td>\n      <td>0.131620</td>\n      <td>3.206363e-07</td>\n      <td>0.435897</td>\n      <td>0.120324</td>\n      <td>0.983488</td>\n      <td>16.163956</td>\n      <td>7.497863e-09</td>\n      <td>38.0</td>\n      <td>0.552262</td>\n      <td>0.036872</td>\n    </tr>\n  </tbody>\n</table>\n<p>5 rows × 101 columns</p>\n</div>"
     },
     "execution_count": 29,
     "metadata": {},
     "output_type": "execute_result"
    }
   ],
   "source": [
    "%%time\n",
    "# start date and end date of the sample\n",
    "stdt, nddt = 20010101, 20201231\n",
    "\n",
    "\n",
    "\n",
    "# load firm characteristics data\n",
    "data_ch = pd.read_csv('GKX_20201231.csv')\n",
    "data_ch = data_ch[(data_ch['DATE']>=stdt)&(data_ch['DATE']<=nddt)].reset_index(drop=True)\n",
    "data_ch['DATE'] = pd.to_datetime(data_ch['DATE'],format='%Y%m%d')+pd.offsets.MonthEnd(0)\n",
    "characteristics = list(set(data_ch.columns).difference({'permno','DATE','SHROUT','mve0','sic2','RET','prc'}))\n",
    "\n",
    "\n",
    "data_ch.head()"
   ],
   "metadata": {
    "collapsed": false,
    "pycharm": {
     "name": "#%%\n"
    }
   }
  },
  {
   "cell_type": "code",
   "execution_count": 30,
   "outputs": [],
   "source": [
    "data_ch_top = data_ch.sort_values('mvel1',ascending=False).groupby('DATE').head(1000).reset_index(drop=True)\n",
    "data_ch_bot = data_ch.sort_values('mvel1',ascending=False).groupby('DATE').tail(1000).reset_index(drop=True)"
   ],
   "metadata": {
    "collapsed": false,
    "pycharm": {
     "name": "#%%\n"
    }
   }
  },
  {
   "cell_type": "code",
   "execution_count": 31,
   "outputs": [
    {
     "data": {
      "text/plain": "permno            0\nDATE              0\nmvel1           276\nRET               0\nprc            7830\n              ...  \nstd_turn        410\nzerotrade       342\nsic2          22532\nbm           375825\nbm_ia        375825\nLength: 101, dtype: int64"
     },
     "execution_count": 31,
     "metadata": {},
     "output_type": "execute_result"
    }
   ],
   "source": [
    "data_ch.isnull().sum()"
   ],
   "metadata": {
    "collapsed": false,
    "pycharm": {
     "name": "#%%\n"
    }
   }
  },
  {
   "cell_type": "code",
   "execution_count": 32,
   "outputs": [
    {
     "name": "stdout",
     "output_type": "stream",
     "text": [
      "CPU times: total: 16.6 s\n",
      "Wall time: 17.7 s\n"
     ]
    }
   ],
   "source": [
    "%%time\n",
    "# fill na with cross-sectional median\n",
    "for ch in characteristics:\n",
    "     data_ch[ch] = data_ch.groupby('DATE')[ch].transform(lambda x: x.fillna(x.median()))"
   ],
   "metadata": {
    "collapsed": false,
    "pycharm": {
     "name": "#%%\n"
    }
   }
  },
  {
   "cell_type": "code",
   "execution_count": 33,
   "outputs": [
    {
     "data": {
      "text/plain": "permno            0\nDATE              0\nmvel1             0\nRET               0\nprc            7830\n              ...  \nstd_turn          0\nzerotrade         0\nsic2          22532\nbm           104764\nbm_ia        104764\nLength: 101, dtype: int64"
     },
     "execution_count": 33,
     "metadata": {},
     "output_type": "execute_result"
    }
   ],
   "source": [
    "# missing data after filling\n",
    "data_ch.isnull().sum()"
   ],
   "metadata": {
    "collapsed": false,
    "pycharm": {
     "name": "#%%\n"
    }
   }
  },
  {
   "cell_type": "code",
   "execution_count": 34,
   "outputs": [
    {
     "data": {
      "text/plain": "Index(['prc', 'mve0', 'sic2'], dtype='object')"
     },
     "execution_count": 34,
     "metadata": {},
     "output_type": "execute_result"
    }
   ],
   "source": [
    "for ch in characteristics:\n",
    "     data_ch[ch] = data_ch[ch].fillna(0)\n",
    "\n",
    "data_ch.columns[data_ch.isnull().sum()!=0]"
   ],
   "metadata": {
    "collapsed": false,
    "pycharm": {
     "name": "#%%\n"
    }
   }
  },
  {
   "cell_type": "code",
   "execution_count": 35,
   "outputs": [],
   "source": [
    "def fill_na(data_ch, characteristics):\n",
    "    for ch in characteristics:\n",
    "         data_ch[ch] = data_ch.groupby('DATE')[ch].transform(lambda x: x.fillna(x.median()))\n",
    "    for ch in characteristics:\n",
    "         data_ch[ch] = data_ch[ch].fillna(0)\n",
    "    return data_ch\n",
    "data_ch_top = fill_na(data_ch_top, characteristics)\n",
    "data_ch_bot = fill_na(data_ch_bot, characteristics)"
   ],
   "metadata": {
    "collapsed": false,
    "pycharm": {
     "name": "#%%\n"
    }
   }
  },
  {
   "cell_type": "markdown",
   "source": [
    "Transform SIC Code into Dummies"
   ],
   "metadata": {
    "collapsed": false,
    "pycharm": {
     "name": "#%% md\n"
    }
   }
  },
  {
   "cell_type": "code",
   "execution_count": 36,
   "outputs": [],
   "source": [
    "# get dummies for SIC code\n",
    "def get_sic_dummies(data_ch):\n",
    "    sic_dummies = pd.get_dummies(data_ch['sic2'].fillna(999).astype(int),prefix='sic').drop('sic_999',axis=1)\n",
    "    data_ch_d = pd.concat([data_ch,sic_dummies],axis=1)\n",
    "    data_ch_d.drop(['prc','SHROUT','mve0','sic2'],inplace=True,axis=1)\n",
    "    return data_ch_d\n",
    "data_ch_d = get_sic_dummies(data_ch)\n",
    "data_ch_top_d = get_sic_dummies(data_ch_top)\n",
    "data_ch_bot_d = get_sic_dummies(data_ch_bot)"
   ],
   "metadata": {
    "collapsed": false,
    "pycharm": {
     "name": "#%%\n"
    }
   }
  },
  {
   "cell_type": "markdown",
   "source": [
    "Macroeconomic Predictors Data"
   ],
   "metadata": {
    "collapsed": false,
    "pycharm": {
     "name": "#%% md\n"
    }
   }
  },
  {
   "cell_type": "code",
   "execution_count": 37,
   "outputs": [
    {
     "data": {
      "text/plain": "      yyyymm     dp_sp     ep_sp     bm_sp      ntis     tbl     tms     dfy  \\\n0 2001-01-31  0.011839  0.035490  0.150450 -0.003193  0.0515  0.0047  0.0078   \n1 2001-02-28  0.012962  0.037873  0.156070 -0.006856  0.0488  0.0061  0.0077   \n2 2001-03-31  0.013766  0.039161  0.133114 -0.005213  0.0442  0.0117  0.0086   \n3 2001-04-30  0.012707  0.034060  0.122497 -0.002543  0.0387  0.0206  0.0087   \n4 2001-05-31  0.012567  0.031592  0.120510 -0.000248  0.0362  0.0232  0.0078   \n\n       svar  \n0  0.004941  \n1  0.002528  \n2  0.007140  \n3  0.007426  \n4  0.002536  ",
      "text/html": "<div>\n<style scoped>\n    .dataframe tbody tr th:only-of-type {\n        vertical-align: middle;\n    }\n\n    .dataframe tbody tr th {\n        vertical-align: top;\n    }\n\n    .dataframe thead th {\n        text-align: right;\n    }\n</style>\n<table border=\"1\" class=\"dataframe\">\n  <thead>\n    <tr style=\"text-align: right;\">\n      <th></th>\n      <th>yyyymm</th>\n      <th>dp_sp</th>\n      <th>ep_sp</th>\n      <th>bm_sp</th>\n      <th>ntis</th>\n      <th>tbl</th>\n      <th>tms</th>\n      <th>dfy</th>\n      <th>svar</th>\n    </tr>\n  </thead>\n  <tbody>\n    <tr>\n      <th>0</th>\n      <td>2001-01-31</td>\n      <td>0.011839</td>\n      <td>0.035490</td>\n      <td>0.150450</td>\n      <td>-0.003193</td>\n      <td>0.0515</td>\n      <td>0.0047</td>\n      <td>0.0078</td>\n      <td>0.004941</td>\n    </tr>\n    <tr>\n      <th>1</th>\n      <td>2001-02-28</td>\n      <td>0.012962</td>\n      <td>0.037873</td>\n      <td>0.156070</td>\n      <td>-0.006856</td>\n      <td>0.0488</td>\n      <td>0.0061</td>\n      <td>0.0077</td>\n      <td>0.002528</td>\n    </tr>\n    <tr>\n      <th>2</th>\n      <td>2001-03-31</td>\n      <td>0.013766</td>\n      <td>0.039161</td>\n      <td>0.133114</td>\n      <td>-0.005213</td>\n      <td>0.0442</td>\n      <td>0.0117</td>\n      <td>0.0086</td>\n      <td>0.007140</td>\n    </tr>\n    <tr>\n      <th>3</th>\n      <td>2001-04-30</td>\n      <td>0.012707</td>\n      <td>0.034060</td>\n      <td>0.122497</td>\n      <td>-0.002543</td>\n      <td>0.0387</td>\n      <td>0.0206</td>\n      <td>0.0087</td>\n      <td>0.007426</td>\n    </tr>\n    <tr>\n      <th>4</th>\n      <td>2001-05-31</td>\n      <td>0.012567</td>\n      <td>0.031592</td>\n      <td>0.120510</td>\n      <td>-0.000248</td>\n      <td>0.0362</td>\n      <td>0.0232</td>\n      <td>0.0078</td>\n      <td>0.002536</td>\n    </tr>\n  </tbody>\n</table>\n</div>"
     },
     "execution_count": 37,
     "metadata": {},
     "output_type": "execute_result"
    }
   ],
   "source": [
    "# load macroeconomic predictors data\n",
    "data_ma = pd.read_csv('PredictorData2022.csv')\n",
    "data_ma = data_ma[(data_ma['yyyymm']>=stdt//100)&(data_ma['yyyymm']<=nddt//100)].reset_index(drop=True)\n",
    "\n",
    "# construct predictor\n",
    "ma_predictors = ['dp_sp','ep_sp','bm_sp','ntis','tbl','tms','dfy','svar']\n",
    "data_ma['Index'] = data_ma['Index'].str.replace(',','').astype('float64')\n",
    "data_ma['dp_sp'] = data_ma['D12']/data_ma['Index']\n",
    "data_ma['ep_sp'] = data_ma['E12']/data_ma['Index']\n",
    "data_ma.rename({'b/m':'bm_sp'},axis=1,inplace=True)\n",
    "data_ma['tms'] = data_ma['lty']-data_ma['tbl']\n",
    "data_ma['dfy'] = data_ma['BAA']-data_ma['AAA']\n",
    "data_ma = data_ma[['yyyymm']+ma_predictors]\n",
    "data_ma['yyyymm'] = pd.to_datetime(data_ma['yyyymm'],format='%Y%m')+pd.offsets.MonthEnd(0)\n",
    "data_ma.head()"
   ],
   "metadata": {
    "collapsed": false,
    "pycharm": {
     "name": "#%%\n"
    }
   }
  },
  {
   "cell_type": "markdown",
   "source": [
    "Construct the Dataset including all the Features"
   ],
   "metadata": {
    "collapsed": false,
    "pycharm": {
     "name": "#%% md\n"
    }
   }
  },
  {
   "cell_type": "code",
   "execution_count": 38,
   "outputs": [],
   "source": [
    "from sklearn.preprocessing import MinMaxScaler\n",
    "\n",
    "def interactions(data_ch, data_ma, characteristics, ma_predictors, minmax=True):\n",
    "    # construct interactions between firm characteristics and macroeconomic predictors\n",
    "    data = data_ch.copy()\n",
    "    data_ma_long = pd.merge(data[['DATE']],data_ma,left_on='DATE',right_on='yyyymm',how='left')\n",
    "    data = data.reset_index(drop=True)\n",
    "    data_ma_long = data_ma_long.reset_index(drop=True)\n",
    "    for fc in characteristics:\n",
    "        for mp in ma_predictors:\n",
    "            data[fc+'*'+mp] = data[fc]*data_ma_long[mp]\n",
    "\n",
    "    features = list(set(data.columns).difference({'permno','DATE','RET'})) # a list storing all 920 features used\n",
    "    if minmax:\n",
    "        X = MinMaxScaler((-1,1)).fit_transform(data[features])\n",
    "        X = pd.DataFrame(X, columns=features)\n",
    "    else:\n",
    "        X = data[features]\n",
    "    y = data['RET']\n",
    "    print(f\"The shape of the data is: {data.shape}\")\n",
    "    return X, y"
   ],
   "metadata": {
    "collapsed": false,
    "pycharm": {
     "name": "#%%\n"
    }
   }
  },
  {
   "cell_type": "markdown",
   "source": [
    "Split the Sample into Training Set, Validation Set and Testing Set"
   ],
   "metadata": {
    "collapsed": false,
    "pycharm": {
     "name": "#%% md\n"
    }
   }
  },
  {
   "cell_type": "code",
   "execution_count": 40,
   "outputs": [],
   "source": [
    "#stdt_vld = np.datetime64('1975-01-31')\n",
    "#stdt_tst = np.datetime64('1987-01-31')\n",
    "stdt_vld = np.datetime64('2009-01-31')\n",
    "stdt_tst = np.datetime64('2015-01-31')\n",
    "\n",
    "def trn_vld_tst(data):\n",
    "\n",
    "    # training setstdt_vld = np.datetime64('2001-01-31')\n",
    "    X_trn, y_trn = interactions(data[data['DATE']<stdt_vld],data_ma[data_ma['yyyymm']<stdt_vld],characteristics,ma_predictors)\n",
    "\n",
    "    # validation set\n",
    "    X_vld, y_vld = interactions(data[(data['DATE']<stdt_tst)&(data['DATE']>=stdt_vld)],data_ma[(data_ma['yyyymm']<stdt_tst)&(data_ma['yyyymm']>=stdt_vld)],characteristics,ma_predictors)\n",
    "\n",
    "    # testing set\n",
    "    X_tst, y_tst = interactions(data[data['DATE']>=stdt_tst],data_ma[data_ma['yyyymm']>=stdt_tst],characteristics,ma_predictors)\n",
    "    return X_trn, X_vld, X_tst, y_trn, y_vld, y_tst"
   ],
   "metadata": {
    "collapsed": false,
    "pycharm": {
     "name": "#%%\n"
    }
   }
  },
  {
   "cell_type": "code",
   "execution_count": 41,
   "outputs": [
    {
     "name": "stdout",
     "output_type": "stream",
     "text": [
      "The shape of the data is: (96000, 915)\n",
      "The shape of the data is: (72000, 915)\n",
      "The shape of the data is: (72000, 915)\n"
     ]
    }
   ],
   "source": [
    "X_trn, X_vld, X_tst, y_trn, y_vld, y_tst = trn_vld_tst(data_ch_top_d)"
   ],
   "metadata": {
    "collapsed": false,
    "pycharm": {
     "name": "#%%\n"
    }
   }
  },
  {
   "cell_type": "code",
   "execution_count": 42,
   "outputs": [
    {
     "data": {
      "text/plain": "   sic_13  bm_ia*tbl  std_dolvol*dp_sp  bm_ia*svar  nincr*dfy  sic_57  \\\n0    -1.0  -0.052652         -0.540762   -0.052409  -0.932692    -1.0   \n1    -1.0  -0.053955         -0.703673   -0.052455  -0.798077    -1.0   \n2    -1.0  -0.052425         -0.751212   -0.052401  -1.000000    -1.0   \n3    -1.0  -0.049775         -0.669249   -0.052309  -1.000000    -1.0   \n4     1.0  -0.051135         -0.751279   -0.052356  -1.000000    -1.0   \n\n   aeavol*tms  salerec*tbl  baspread*svar  divo*tbl  ...  sp*ep_sp  \\\n0   -0.858494    -0.931742      -0.995309      -1.0  ... -0.968860   \n1   -0.843473    -0.995933      -0.997501      -1.0  ... -0.929785   \n2   -0.834459    -0.672856      -0.996703      -1.0  ... -0.850467   \n3   -0.844916    -0.930226      -0.995719      -1.0  ... -0.913962   \n4   -0.871037    -0.868680      -0.995884      -1.0  ... -0.694149   \n\n   baspread*bm_sp  roaq*tms  rd_mve*tms    dy*tms  grcapx*dfy  tang*dp_sp  \\\n0       -0.874822  0.225013   -0.943288 -0.938846   -0.780105   -0.616306   \n1       -0.933302  0.214127   -0.946779 -0.932497   -0.780853   -0.325258   \n2       -0.912008  0.221230   -0.950010 -0.932077   -0.772072   -0.436603   \n3       -0.885745  0.212081   -0.949817 -0.933615   -0.739160   -0.652712   \n4       -0.890163  0.220507   -0.949573 -0.924936   -0.758710   -0.554066   \n\n   mvel1*ntis  idiovol*dfy  idiovol*svar  \n0    0.107778    -0.876267     -0.987546  \n1    0.107778    -0.929838     -0.992773  \n2    0.107778    -0.911596     -0.990993  \n3    0.107778    -0.874827     -0.987406  \n4    0.107778    -0.861593     -0.986115  \n\n[5 rows x 912 columns]",
      "text/html": "<div>\n<style scoped>\n    .dataframe tbody tr th:only-of-type {\n        vertical-align: middle;\n    }\n\n    .dataframe tbody tr th {\n        vertical-align: top;\n    }\n\n    .dataframe thead th {\n        text-align: right;\n    }\n</style>\n<table border=\"1\" class=\"dataframe\">\n  <thead>\n    <tr style=\"text-align: right;\">\n      <th></th>\n      <th>sic_13</th>\n      <th>bm_ia*tbl</th>\n      <th>std_dolvol*dp_sp</th>\n      <th>bm_ia*svar</th>\n      <th>nincr*dfy</th>\n      <th>sic_57</th>\n      <th>aeavol*tms</th>\n      <th>salerec*tbl</th>\n      <th>baspread*svar</th>\n      <th>divo*tbl</th>\n      <th>...</th>\n      <th>sp*ep_sp</th>\n      <th>baspread*bm_sp</th>\n      <th>roaq*tms</th>\n      <th>rd_mve*tms</th>\n      <th>dy*tms</th>\n      <th>grcapx*dfy</th>\n      <th>tang*dp_sp</th>\n      <th>mvel1*ntis</th>\n      <th>idiovol*dfy</th>\n      <th>idiovol*svar</th>\n    </tr>\n  </thead>\n  <tbody>\n    <tr>\n      <th>0</th>\n      <td>-1.0</td>\n      <td>-0.052652</td>\n      <td>-0.540762</td>\n      <td>-0.052409</td>\n      <td>-0.932692</td>\n      <td>-1.0</td>\n      <td>-0.858494</td>\n      <td>-0.931742</td>\n      <td>-0.995309</td>\n      <td>-1.0</td>\n      <td>...</td>\n      <td>-0.968860</td>\n      <td>-0.874822</td>\n      <td>0.225013</td>\n      <td>-0.943288</td>\n      <td>-0.938846</td>\n      <td>-0.780105</td>\n      <td>-0.616306</td>\n      <td>0.107778</td>\n      <td>-0.876267</td>\n      <td>-0.987546</td>\n    </tr>\n    <tr>\n      <th>1</th>\n      <td>-1.0</td>\n      <td>-0.053955</td>\n      <td>-0.703673</td>\n      <td>-0.052455</td>\n      <td>-0.798077</td>\n      <td>-1.0</td>\n      <td>-0.843473</td>\n      <td>-0.995933</td>\n      <td>-0.997501</td>\n      <td>-1.0</td>\n      <td>...</td>\n      <td>-0.929785</td>\n      <td>-0.933302</td>\n      <td>0.214127</td>\n      <td>-0.946779</td>\n      <td>-0.932497</td>\n      <td>-0.780853</td>\n      <td>-0.325258</td>\n      <td>0.107778</td>\n      <td>-0.929838</td>\n      <td>-0.992773</td>\n    </tr>\n    <tr>\n      <th>2</th>\n      <td>-1.0</td>\n      <td>-0.052425</td>\n      <td>-0.751212</td>\n      <td>-0.052401</td>\n      <td>-1.000000</td>\n      <td>-1.0</td>\n      <td>-0.834459</td>\n      <td>-0.672856</td>\n      <td>-0.996703</td>\n      <td>-1.0</td>\n      <td>...</td>\n      <td>-0.850467</td>\n      <td>-0.912008</td>\n      <td>0.221230</td>\n      <td>-0.950010</td>\n      <td>-0.932077</td>\n      <td>-0.772072</td>\n      <td>-0.436603</td>\n      <td>0.107778</td>\n      <td>-0.911596</td>\n      <td>-0.990993</td>\n    </tr>\n    <tr>\n      <th>3</th>\n      <td>-1.0</td>\n      <td>-0.049775</td>\n      <td>-0.669249</td>\n      <td>-0.052309</td>\n      <td>-1.000000</td>\n      <td>-1.0</td>\n      <td>-0.844916</td>\n      <td>-0.930226</td>\n      <td>-0.995719</td>\n      <td>-1.0</td>\n      <td>...</td>\n      <td>-0.913962</td>\n      <td>-0.885745</td>\n      <td>0.212081</td>\n      <td>-0.949817</td>\n      <td>-0.933615</td>\n      <td>-0.739160</td>\n      <td>-0.652712</td>\n      <td>0.107778</td>\n      <td>-0.874827</td>\n      <td>-0.987406</td>\n    </tr>\n    <tr>\n      <th>4</th>\n      <td>1.0</td>\n      <td>-0.051135</td>\n      <td>-0.751279</td>\n      <td>-0.052356</td>\n      <td>-1.000000</td>\n      <td>-1.0</td>\n      <td>-0.871037</td>\n      <td>-0.868680</td>\n      <td>-0.995884</td>\n      <td>-1.0</td>\n      <td>...</td>\n      <td>-0.694149</td>\n      <td>-0.890163</td>\n      <td>0.220507</td>\n      <td>-0.949573</td>\n      <td>-0.924936</td>\n      <td>-0.758710</td>\n      <td>-0.554066</td>\n      <td>0.107778</td>\n      <td>-0.861593</td>\n      <td>-0.986115</td>\n    </tr>\n  </tbody>\n</table>\n<p>5 rows × 912 columns</p>\n</div>"
     },
     "execution_count": 42,
     "metadata": {},
     "output_type": "execute_result"
    }
   ],
   "source": [
    "X_trn.head()"
   ],
   "metadata": {
    "collapsed": false,
    "pycharm": {
     "name": "#%%\n"
    }
   }
  },
  {
   "cell_type": "code",
   "execution_count": 43,
   "outputs": [
    {
     "data": {
      "text/plain": "0"
     },
     "execution_count": 43,
     "metadata": {},
     "output_type": "execute_result"
    }
   ],
   "source": [
    "gc.collect()"
   ],
   "metadata": {
    "collapsed": false,
    "pycharm": {
     "name": "#%%\n"
    }
   }
  },
  {
   "cell_type": "code",
   "execution_count": 44,
   "outputs": [],
   "source": [
    "del([data_ch,data_ch_top,data_ch_bot,data_ch_d,data_ch_top_d,data_ch_bot_d])"
   ],
   "metadata": {
    "collapsed": false,
    "pycharm": {
     "name": "#%%\n"
    }
   }
  },
  {
   "cell_type": "markdown",
   "source": [
    "Model Fitting"
   ],
   "metadata": {
    "collapsed": false,
    "pycharm": {
     "name": "#%% md\n"
    }
   }
  },
  {
   "cell_type": "markdown",
   "source": [
    "Customized Loss Function, Scoring Functions, Validation Funtion and Evaluation Function"
   ],
   "metadata": {
    "collapsed": false,
    "pycharm": {
     "name": "#%% md\n"
    }
   }
  },
  {
   "cell_type": "code",
   "execution_count": 55,
   "outputs": [],
   "source": [
    "from sklearn.metrics import mean_squared_error, r2_score\n",
    "from sklearn.model_selection import ParameterGrid\n",
    "\n",
    "# Loss Function\n",
    "# Huber objective function\n",
    "def huber(actual, predicted, xi):\n",
    "    actual, predicted = np.array(actual).flatten(), np.array(predicted).flatten()\n",
    "    resid = actual - predicted\n",
    "    huber_loss = np.where(np.abs(resid)<=xi, resid**2, 2*xi*np.abs(resid)-xi**2)\n",
    "    return np.mean(huber_loss)\n",
    "\n",
    "# Scoring Function\n",
    "# out-of-sample R squared\n",
    "def R_oos(actual, predicted):\n",
    "    actual, predicted = np.array(actual), np.array(predicted).flatten()\n",
    "    predicted = np.where(predicted<0,0,predicted)\n",
    "    return 1 - (np.dot((actual-predicted),(actual-predicted)))/(np.dot(actual,actual))\n",
    "\n",
    "# Validation Function\n",
    "def val_fun(model, params: dict, X_trn, y_trn, X_vld, y_vld, illustration=True, sleep=0, is_NN=False):\n",
    "    best_ros = None\n",
    "    lst_params = list(ParameterGrid(params))\n",
    "    for param in lst_params:\n",
    "        if best_ros == None:\n",
    "            if is_NN:\n",
    "                mod = model().set_params(**param).fit(X_trn, y_trn, X_vld, y_vld)\n",
    "            else:\n",
    "                mod = model().set_params(**param).fit(X_trn, y_trn)\n",
    "            best_mod = mod\n",
    "            y_pred = mod.predict(X_vld)\n",
    "            best_ros = R_oos(y_vld, y_pred)\n",
    "            best_param = param\n",
    "            if illustration:\n",
    "                print(f'Model with params: {param} finished.')\n",
    "                print(f'with out-of-sample R squared on validation set: {best_ros*100:.5f}%')\n",
    "                print('*'*60)\n",
    "        else:\n",
    "            time.sleep(sleep)\n",
    "            if is_NN:\n",
    "                mod = model().set_params(**param).fit(X_trn, y_trn, X_vld, y_vld)\n",
    "            else:\n",
    "                mod = model().set_params(**param).fit(X_trn, y_trn)\n",
    "            y_pred = mod.predict(X_vld)\n",
    "            ros = R_oos(y_vld, y_pred)\n",
    "            if illustration:\n",
    "                print(f'Model with params: {param} finished.')\n",
    "                print(f'with out-of-sample R squared on validation set: {ros*100:.5f}%')\n",
    "                print('*'*60)\n",
    "            if ros > best_ros:\n",
    "                best_ros = ros\n",
    "                best_mod = mod\n",
    "                best_param = param\n",
    "    if illustration:\n",
    "        print('\\n'+'#'*60)\n",
    "        print('Tuning process finished!!!')\n",
    "        print(f'The best setting is: {best_param}')\n",
    "        print(f'with R2oos {best_ros*100:.2f}% on validation set.')\n",
    "        print('#'*60)\n",
    "    return best_mod\n",
    "\n",
    "\n",
    "# Pairwise Comparison\n",
    "# Diebold-Mariano test statistics\n",
    "\n",
    "# Evaluation Output\n",
    "def evaluate(actual, predicted, insample=False):\n",
    "    if insample:\n",
    "        print('*'*15+'In-Sample Metrics'+'*'*15)\n",
    "        print(f'The in-sample R2 is {r2_score(actual,predicted)*100:.2f}%')\n",
    "        print(f'The in-sample MSE is {mean_squared_error(actual,predicted):.3f}')\n",
    "    else:\n",
    "        print('*'*15+'Out-of-Sample Metrics'+'*'*15)\n",
    "        print(f'The out-of-sample R2 is {R_oos(actual,predicted)*100:.2f}%')\n",
    "        print(f'The out-of-sample MSE is {mean_squared_error(actual,predicted):.3f}')"
   ],
   "metadata": {
    "collapsed": false,
    "pycharm": {
     "name": "#%%\n"
    }
   }
  },
  {
   "cell_type": "markdown",
   "source": [
    "PCR"
   ],
   "metadata": {
    "collapsed": false,
    "pycharm": {
     "name": "#%% md\n"
    }
   }
  },
  {
   "cell_type": "code",
   "execution_count": 56,
   "outputs": [],
   "source": [
    "from sklearn.linear_model import LinearRegression, HuberRegressor\n",
    "from sklearn.decomposition import PCA\n",
    "from sklearn.preprocessing import StandardScaler\n",
    "\n",
    "class PCRegressor:\n",
    "\n",
    "    def __init__(self,n_PCs=1,loss='mse'):\n",
    "        self.n_PCs = n_PCs\n",
    "        if loss not in ['huber','mse']:\n",
    "            raise AttributeError(\n",
    "            f\"The loss should be either 'huber' or 'mse', but {loss} is given\"\n",
    "            )\n",
    "        else:\n",
    "            self.loss = loss\n",
    "\n",
    "    def set_params(self, **params):\n",
    "        for param in params.keys():\n",
    "            setattr(self, param, params[param])\n",
    "        return self\n",
    "\n",
    "    def fit(self,X,y):\n",
    "        X = np.array(X)\n",
    "        N,K = X.shape\n",
    "        y = np.array(y_trn).reshape((N,1))\n",
    "        self.mu = np.mean(X,axis=0).reshape((1,K))\n",
    "        self.sigma = np.std(X,axis=0).reshape((1,K))\n",
    "        self.sigma = np.where(self.sigma==0,1,self.sigma)\n",
    "        X = (X-self.mu)/self.sigma\n",
    "        pca = PCA()\n",
    "        X = pca.fit_transform(X)[:,:self.n_PCs]\n",
    "        self.pc_coef = pca.components_.T[:,:self.n_PCs]\n",
    "        if self.loss == 'mse':\n",
    "            self.model = LinearRegression().fit(X,y)\n",
    "        else:\n",
    "            self.model = HuberRegressor().fit(X,y)\n",
    "        return self\n",
    "\n",
    "    def predict(self,X):\n",
    "        X = np.array(X)\n",
    "        X = (X-self.mu)/self.sigma\n",
    "        X = X @ self.pc_coef\n",
    "        return self.model.predict(X)"
   ],
   "metadata": {
    "collapsed": false,
    "pycharm": {
     "name": "#%%\n"
    }
   }
  },
  {
   "cell_type": "code",
   "execution_count": 57,
   "outputs": [
    {
     "name": "stdout",
     "output_type": "stream",
     "text": [
      "Model with params: {'loss': 'mse', 'n_PCs': 1} finished.\n",
      "with out-of-sample R squared on validation set: 0.05091%\n",
      "************************************************************\n",
      "Model with params: {'loss': 'mse', 'n_PCs': 3} finished.\n",
      "with out-of-sample R squared on validation set: 0.02962%\n",
      "************************************************************\n",
      "Model with params: {'loss': 'mse', 'n_PCs': 5} finished.\n",
      "with out-of-sample R squared on validation set: 0.00000%\n",
      "************************************************************\n",
      "Model with params: {'loss': 'mse', 'n_PCs': 7} finished.\n",
      "with out-of-sample R squared on validation set: 0.00000%\n",
      "************************************************************\n",
      "Model with params: {'loss': 'mse', 'n_PCs': 10} finished.\n",
      "with out-of-sample R squared on validation set: 0.00000%\n",
      "************************************************************\n",
      "Model with params: {'loss': 'mse', 'n_PCs': 50} finished.\n",
      "with out-of-sample R squared on validation set: 0.72772%\n",
      "************************************************************\n",
      "Model with params: {'loss': 'huber', 'n_PCs': 1} finished.\n",
      "with out-of-sample R squared on validation set: 0.04586%\n",
      "************************************************************\n",
      "Model with params: {'loss': 'huber', 'n_PCs': 3} finished.\n",
      "with out-of-sample R squared on validation set: 0.02467%\n",
      "************************************************************\n",
      "Model with params: {'loss': 'huber', 'n_PCs': 5} finished.\n",
      "with out-of-sample R squared on validation set: 0.00000%\n",
      "************************************************************\n",
      "Model with params: {'loss': 'huber', 'n_PCs': 7} finished.\n",
      "with out-of-sample R squared on validation set: 0.00000%\n",
      "************************************************************\n",
      "Model with params: {'loss': 'huber', 'n_PCs': 10} finished.\n",
      "with out-of-sample R squared on validation set: 0.00000%\n",
      "************************************************************\n",
      "Model with params: {'loss': 'huber', 'n_PCs': 50} finished.\n",
      "with out-of-sample R squared on validation set: 2.06964%\n",
      "************************************************************\n",
      "\n",
      "############################################################\n",
      "Tuning process finished!!!\n",
      "The best setting is: {'loss': 'huber', 'n_PCs': 50}\n",
      "with R2oos 2.07% on validation set.\n",
      "############################################################\n",
      "CPU times: total: 8min 14s\n",
      "Wall time: 2min\n"
     ]
    }
   ],
   "source": [
    "%%time\n",
    "# principal component regression\n",
    "params = {'n_PCs':[1,3,5,7,10,50],'loss':['mse','huber']}\n",
    "PCR = val_fun(PCRegressor,params=params,X_trn=X_trn,y_trn=y_trn,X_vld=X_vld,y_vld=y_vld,sleep=3)"
   ],
   "metadata": {
    "collapsed": false,
    "pycharm": {
     "name": "#%%\n"
    }
   }
  },
  {
   "cell_type": "code",
   "execution_count": 58,
   "outputs": [
    {
     "name": "stdout",
     "output_type": "stream",
     "text": [
      "***************In-Sample Metrics***************\n",
      "The in-sample R2 is 6.88%\n",
      "The in-sample MSE is 0.011\n",
      "***************Out-of-Sample Metrics***************\n",
      "The out-of-sample R2 is -0.01%\n",
      "The out-of-sample MSE is 0.010\n"
     ]
    }
   ],
   "source": [
    "evaluate(y_trn, PCR.predict(X_trn), insample=True)\n",
    "evaluate(y_tst, PCR.predict(X_tst))"
   ],
   "metadata": {
    "collapsed": false,
    "pycharm": {
     "name": "#%%\n"
    }
   }
  },
  {
   "cell_type": "markdown",
   "source": [
    "Tree-based Models"
   ],
   "metadata": {
    "collapsed": false,
    "pycharm": {
     "name": "#%% md\n"
    }
   }
  },
  {
   "cell_type": "markdown",
   "source": [
    "LightGBM"
   ],
   "metadata": {
    "collapsed": false,
    "pycharm": {
     "name": "#%% md\n"
    }
   }
  },
  {
   "cell_type": "code",
   "execution_count": 72,
   "outputs": [],
   "source": [
    "# huber loss function for customized objective function\n",
    "\n",
    "# gradient of huber loss with respect to y_pred\n",
    "def grad_huber_obj(y_true, y_pred):\n",
    "    xi = 1.35\n",
    "    # Though I do not want to make it hard-coded, lightgbm, behind the scene, evaluates the # of parameters\n",
    "    # of the objective function first, then pass according # of parameters. I tried to use partial to set\n",
    "    # the value of xi. It did not work.\n",
    "    # I refer the readers to the source code to have a better understanding of the issue:\n",
    "    # (https://github.com/microsoft/LightGBM/blob/master/python-package/lightgbm/sklearn.py)\n",
    "    y_true, y_pred = np.array(y_true).flatten(), np.array(y_pred).flatten()\n",
    "    N = len(y_true)\n",
    "    resid = y_true - y_pred\n",
    "    ind_m = np.where(np.abs(resid)<=xi)\n",
    "    ind_u = np.where(resid>xi)\n",
    "    ind_l = np.where(resid< -xi)\n",
    "    grad = np.zeros(N)\n",
    "    try:\n",
    "        grad[ind_m] = (-2*(y_true-y_pred))[ind_m]\n",
    "    except:\n",
    "        pass\n",
    "    try:\n",
    "        grad[ind_u] = np.repeat(2*xi,N)[ind_u]\n",
    "    except:\n",
    "        pass\n",
    "    try:\n",
    "        grad[ind_l] = np.repeat(-2*xi,N)[ind_l]\n",
    "    except:\n",
    "        pass\n",
    "    return grad/N\n",
    "\n",
    "# hessian of huber loss with respect to y_pred\n",
    "def hess_huber_obj(y_true, y_pred):\n",
    "    xi = 1.35\n",
    "    y_true, y_pred = np.array(y_true).flatten(), np.array(y_pred).flatten()\n",
    "    N = len(y_true)\n",
    "    resid = y_true - y_pred\n",
    "    ind_m = np.where(np.abs(resid)<=xi)\n",
    "    ind_u = np.where(resid>xi)\n",
    "    ind_l = np.where(resid< -xi)\n",
    "    hess = np.zeros(N)\n",
    "    try:\n",
    "        hess[ind_m] = np.repeat(2,N)[ind_m]\n",
    "    except:\n",
    "        pass\n",
    "    return hess/N\n",
    "\n",
    "# huber loss for lgbm\n",
    "def huber_obj(y_true, y_pred):\n",
    "    grad = grad_huber_obj(y_true, y_pred)\n",
    "    hess = hess_huber_obj(y_true, y_pred)\n",
    "    return grad, hess"
   ],
   "metadata": {
    "collapsed": false,
    "pycharm": {
     "name": "#%%\n"
    }
   }
  },
  {
   "cell_type": "code",
   "execution_count": 73,
   "outputs": [
    {
     "name": "stdout",
     "output_type": "stream",
     "text": [
      "Model with params: {'learning_rate': 0.01, 'max_depth': 1, 'n_estimators': 10, 'objective': None, 'random_state': 12308} finished.\n",
      "with out-of-sample R squared on validation set: 0.87070%\n",
      "************************************************************\n",
      "Model with params: {'learning_rate': 0.01, 'max_depth': 1, 'n_estimators': 10, 'objective': <function huber_obj at 0x0000024FE1058AF0>, 'random_state': 12308} finished.\n",
      "with out-of-sample R squared on validation set: 0.23432%\n",
      "************************************************************\n",
      "Model with params: {'learning_rate': 0.01, 'max_depth': 1, 'n_estimators': 50, 'objective': None, 'random_state': 12308} finished.\n",
      "with out-of-sample R squared on validation set: 0.92921%\n",
      "************************************************************\n",
      "Model with params: {'learning_rate': 0.01, 'max_depth': 1, 'n_estimators': 50, 'objective': <function huber_obj at 0x0000024FE1058AF0>, 'random_state': 12308} finished.\n",
      "with out-of-sample R squared on validation set: 0.51671%\n",
      "************************************************************\n",
      "Model with params: {'learning_rate': 0.01, 'max_depth': 1, 'n_estimators': 100, 'objective': None, 'random_state': 12308} finished.\n",
      "with out-of-sample R squared on validation set: 1.09914%\n",
      "************************************************************\n",
      "Model with params: {'learning_rate': 0.01, 'max_depth': 1, 'n_estimators': 100, 'objective': <function huber_obj at 0x0000024FE1058AF0>, 'random_state': 12308} finished.\n",
      "with out-of-sample R squared on validation set: 1.01141%\n",
      "************************************************************\n",
      "Model with params: {'learning_rate': 0.01, 'max_depth': 1, 'n_estimators': 200, 'objective': None, 'random_state': 12308} finished.\n",
      "with out-of-sample R squared on validation set: 1.34051%\n",
      "************************************************************\n",
      "Model with params: {'learning_rate': 0.01, 'max_depth': 1, 'n_estimators': 200, 'objective': <function huber_obj at 0x0000024FE1058AF0>, 'random_state': 12308} finished.\n",
      "with out-of-sample R squared on validation set: 1.33230%\n",
      "************************************************************\n",
      "Model with params: {'learning_rate': 0.01, 'max_depth': 1, 'n_estimators': 500, 'objective': None, 'random_state': 12308} finished.\n",
      "with out-of-sample R squared on validation set: 1.56229%\n",
      "************************************************************\n",
      "Model with params: {'learning_rate': 0.01, 'max_depth': 1, 'n_estimators': 500, 'objective': <function huber_obj at 0x0000024FE1058AF0>, 'random_state': 12308} finished.\n",
      "with out-of-sample R squared on validation set: 1.50883%\n",
      "************************************************************\n",
      "Model with params: {'learning_rate': 0.01, 'max_depth': 1, 'n_estimators': 1000, 'objective': None, 'random_state': 12308} finished.\n",
      "with out-of-sample R squared on validation set: 1.05352%\n",
      "************************************************************\n",
      "Model with params: {'learning_rate': 0.01, 'max_depth': 1, 'n_estimators': 1000, 'objective': <function huber_obj at 0x0000024FE1058AF0>, 'random_state': 12308} finished.\n",
      "with out-of-sample R squared on validation set: 1.09402%\n",
      "************************************************************\n",
      "Model with params: {'learning_rate': 0.01, 'max_depth': 2, 'n_estimators': 10, 'objective': None, 'random_state': 12308} finished.\n",
      "with out-of-sample R squared on validation set: 0.57218%\n",
      "************************************************************\n",
      "Model with params: {'learning_rate': 0.01, 'max_depth': 2, 'n_estimators': 10, 'objective': <function huber_obj at 0x0000024FE1058AF0>, 'random_state': 12308} finished.\n",
      "with out-of-sample R squared on validation set: 0.26757%\n",
      "************************************************************\n",
      "Model with params: {'learning_rate': 0.01, 'max_depth': 2, 'n_estimators': 50, 'objective': None, 'random_state': 12308} finished.\n",
      "with out-of-sample R squared on validation set: 0.93968%\n",
      "************************************************************\n",
      "Model with params: {'learning_rate': 0.01, 'max_depth': 2, 'n_estimators': 50, 'objective': <function huber_obj at 0x0000024FE1058AF0>, 'random_state': 12308} finished.\n",
      "with out-of-sample R squared on validation set: 0.81853%\n",
      "************************************************************\n",
      "Model with params: {'learning_rate': 0.01, 'max_depth': 2, 'n_estimators': 100, 'objective': None, 'random_state': 12308} finished.\n",
      "with out-of-sample R squared on validation set: 1.17236%\n",
      "************************************************************\n",
      "Model with params: {'learning_rate': 0.01, 'max_depth': 2, 'n_estimators': 100, 'objective': <function huber_obj at 0x0000024FE1058AF0>, 'random_state': 12308} finished.\n",
      "with out-of-sample R squared on validation set: 1.10436%\n",
      "************************************************************\n",
      "Model with params: {'learning_rate': 0.01, 'max_depth': 2, 'n_estimators': 200, 'objective': None, 'random_state': 12308} finished.\n",
      "with out-of-sample R squared on validation set: 1.43370%\n",
      "************************************************************\n",
      "Model with params: {'learning_rate': 0.01, 'max_depth': 2, 'n_estimators': 200, 'objective': <function huber_obj at 0x0000024FE1058AF0>, 'random_state': 12308} finished.\n",
      "with out-of-sample R squared on validation set: 1.41698%\n",
      "************************************************************\n",
      "Model with params: {'learning_rate': 0.01, 'max_depth': 2, 'n_estimators': 500, 'objective': None, 'random_state': 12308} finished.\n",
      "with out-of-sample R squared on validation set: 1.47153%\n",
      "************************************************************\n",
      "Model with params: {'learning_rate': 0.01, 'max_depth': 2, 'n_estimators': 500, 'objective': <function huber_obj at 0x0000024FE1058AF0>, 'random_state': 12308} finished.\n",
      "with out-of-sample R squared on validation set: 1.60391%\n",
      "************************************************************\n",
      "Model with params: {'learning_rate': 0.01, 'max_depth': 2, 'n_estimators': 1000, 'objective': None, 'random_state': 12308} finished.\n",
      "with out-of-sample R squared on validation set: 1.28788%\n",
      "************************************************************\n",
      "Model with params: {'learning_rate': 0.01, 'max_depth': 2, 'n_estimators': 1000, 'objective': <function huber_obj at 0x0000024FE1058AF0>, 'random_state': 12308} finished.\n",
      "with out-of-sample R squared on validation set: 1.39431%\n",
      "************************************************************\n",
      "Model with params: {'learning_rate': 0.1, 'max_depth': 1, 'n_estimators': 10, 'objective': None, 'random_state': 12308} finished.\n",
      "with out-of-sample R squared on validation set: 1.11745%\n",
      "************************************************************\n",
      "Model with params: {'learning_rate': 0.1, 'max_depth': 1, 'n_estimators': 10, 'objective': <function huber_obj at 0x0000024FE1058AF0>, 'random_state': 12308} finished.\n",
      "with out-of-sample R squared on validation set: 1.03772%\n",
      "************************************************************\n",
      "Model with params: {'learning_rate': 0.1, 'max_depth': 1, 'n_estimators': 50, 'objective': None, 'random_state': 12308} finished.\n",
      "with out-of-sample R squared on validation set: 1.54282%\n",
      "************************************************************\n",
      "Model with params: {'learning_rate': 0.1, 'max_depth': 1, 'n_estimators': 50, 'objective': <function huber_obj at 0x0000024FE1058AF0>, 'random_state': 12308} finished.\n",
      "with out-of-sample R squared on validation set: 1.50259%\n",
      "************************************************************\n",
      "Model with params: {'learning_rate': 0.1, 'max_depth': 1, 'n_estimators': 100, 'objective': None, 'random_state': 12308} finished.\n",
      "with out-of-sample R squared on validation set: 0.89557%\n",
      "************************************************************\n",
      "Model with params: {'learning_rate': 0.1, 'max_depth': 1, 'n_estimators': 100, 'objective': <function huber_obj at 0x0000024FE1058AF0>, 'random_state': 12308} finished.\n",
      "with out-of-sample R squared on validation set: 0.87449%\n",
      "************************************************************\n",
      "Model with params: {'learning_rate': 0.1, 'max_depth': 1, 'n_estimators': 200, 'objective': None, 'random_state': 12308} finished.\n",
      "with out-of-sample R squared on validation set: 0.40209%\n",
      "************************************************************\n",
      "Model with params: {'learning_rate': 0.1, 'max_depth': 1, 'n_estimators': 200, 'objective': <function huber_obj at 0x0000024FE1058AF0>, 'random_state': 12308} finished.\n",
      "with out-of-sample R squared on validation set: 0.27729%\n",
      "************************************************************\n",
      "Model with params: {'learning_rate': 0.1, 'max_depth': 1, 'n_estimators': 500, 'objective': None, 'random_state': 12308} finished.\n",
      "with out-of-sample R squared on validation set: 0.25970%\n",
      "************************************************************\n",
      "Model with params: {'learning_rate': 0.1, 'max_depth': 1, 'n_estimators': 500, 'objective': <function huber_obj at 0x0000024FE1058AF0>, 'random_state': 12308} finished.\n",
      "with out-of-sample R squared on validation set: 0.31464%\n",
      "************************************************************\n",
      "Model with params: {'learning_rate': 0.1, 'max_depth': 1, 'n_estimators': 1000, 'objective': None, 'random_state': 12308} finished.\n",
      "with out-of-sample R squared on validation set: 0.41265%\n",
      "************************************************************\n",
      "Model with params: {'learning_rate': 0.1, 'max_depth': 1, 'n_estimators': 1000, 'objective': <function huber_obj at 0x0000024FE1058AF0>, 'random_state': 12308} finished.\n",
      "with out-of-sample R squared on validation set: 0.54594%\n",
      "************************************************************\n",
      "Model with params: {'learning_rate': 0.1, 'max_depth': 2, 'n_estimators': 10, 'objective': None, 'random_state': 12308} finished.\n",
      "with out-of-sample R squared on validation set: 1.22861%\n",
      "************************************************************\n",
      "Model with params: {'learning_rate': 0.1, 'max_depth': 2, 'n_estimators': 10, 'objective': <function huber_obj at 0x0000024FE1058AF0>, 'random_state': 12308} finished.\n",
      "with out-of-sample R squared on validation set: 1.12283%\n",
      "************************************************************\n",
      "Model with params: {'learning_rate': 0.1, 'max_depth': 2, 'n_estimators': 50, 'objective': None, 'random_state': 12308} finished.\n",
      "with out-of-sample R squared on validation set: 1.70057%\n",
      "************************************************************\n",
      "Model with params: {'learning_rate': 0.1, 'max_depth': 2, 'n_estimators': 50, 'objective': <function huber_obj at 0x0000024FE1058AF0>, 'random_state': 12308} finished.\n",
      "with out-of-sample R squared on validation set: 1.79547%\n",
      "************************************************************\n",
      "Model with params: {'learning_rate': 0.1, 'max_depth': 2, 'n_estimators': 100, 'objective': None, 'random_state': 12308} finished.\n",
      "with out-of-sample R squared on validation set: 2.66177%\n",
      "************************************************************\n",
      "Model with params: {'learning_rate': 0.1, 'max_depth': 2, 'n_estimators': 100, 'objective': <function huber_obj at 0x0000024FE1058AF0>, 'random_state': 12308} finished.\n",
      "with out-of-sample R squared on validation set: 2.29028%\n",
      "************************************************************\n",
      "Model with params: {'learning_rate': 0.1, 'max_depth': 2, 'n_estimators': 200, 'objective': None, 'random_state': 12308} finished.\n",
      "with out-of-sample R squared on validation set: 1.48702%\n",
      "************************************************************\n",
      "Model with params: {'learning_rate': 0.1, 'max_depth': 2, 'n_estimators': 200, 'objective': <function huber_obj at 0x0000024FE1058AF0>, 'random_state': 12308} finished.\n",
      "with out-of-sample R squared on validation set: 1.27068%\n",
      "************************************************************\n",
      "Model with params: {'learning_rate': 0.1, 'max_depth': 2, 'n_estimators': 500, 'objective': None, 'random_state': 12308} finished.\n",
      "with out-of-sample R squared on validation set: -2.70328%\n",
      "************************************************************\n",
      "Model with params: {'learning_rate': 0.1, 'max_depth': 2, 'n_estimators': 500, 'objective': <function huber_obj at 0x0000024FE1058AF0>, 'random_state': 12308} finished.\n",
      "with out-of-sample R squared on validation set: 0.31809%\n",
      "************************************************************\n",
      "Model with params: {'learning_rate': 0.1, 'max_depth': 2, 'n_estimators': 1000, 'objective': None, 'random_state': 12308} finished.\n",
      "with out-of-sample R squared on validation set: -15.46858%\n",
      "************************************************************\n",
      "Model with params: {'learning_rate': 0.1, 'max_depth': 2, 'n_estimators': 1000, 'objective': <function huber_obj at 0x0000024FE1058AF0>, 'random_state': 12308} finished.\n",
      "with out-of-sample R squared on validation set: 0.36084%\n",
      "************************************************************\n",
      "\n",
      "############################################################\n",
      "Tuning process finished!!!\n",
      "The best setting is: {'learning_rate': 0.1, 'max_depth': 2, 'n_estimators': 100, 'objective': None, 'random_state': 12308}\n",
      "with R2oos 2.66% on validation set.\n",
      "############################################################\n"
     ]
    }
   ],
   "source": [
    "from lightgbm import LGBMRegressor\n",
    "\n",
    "params = {\n",
    "    'objective':[None, huber_obj],\n",
    "    'max_depth':[1,2],\n",
    "    'n_estimators':[10,50,100,200,500,1000],\n",
    "    'random_state':[12308],\n",
    "    'learning_rate':[.01,.1]\n",
    "}\n",
    "LGBM = val_fun(LGBMRegressor,params=params,X_trn=X_trn,y_trn=y_trn,X_vld=X_vld,y_vld=y_vld)"
   ],
   "metadata": {
    "collapsed": false,
    "pycharm": {
     "name": "#%%\n"
    }
   }
  },
  {
   "cell_type": "code",
   "execution_count": 74,
   "outputs": [
    {
     "name": "stdout",
     "output_type": "stream",
     "text": [
      "***************In-Sample Metrics***************\n",
      "The in-sample R2 is 19.41%\n",
      "The in-sample MSE is 0.009\n",
      "***************Out-of-Sample Metrics***************\n",
      "The out-of-sample R2 is 1.27%\n",
      "The out-of-sample MSE is 0.009\n"
     ]
    }
   ],
   "source": [
    "evaluate(y_trn, LGBM.predict(X_trn), insample=True)\n",
    "evaluate(y_tst, LGBM.predict(X_tst))"
   ],
   "metadata": {
    "collapsed": false,
    "pycharm": {
     "name": "#%%\n"
    }
   }
  },
  {
   "cell_type": "code",
   "execution_count": 90,
   "outputs": [],
   "source": [
    "def variable_importance(model,number):\n",
    "    importances = model.feature_importances_\n",
    "\n",
    "    # 将特征重要性得分标准化\n",
    "    importances = importances / np.sum(importances)\n",
    "\n",
    "    # 获取特征名称列表\n",
    "    feature_names = X_trn.columns\n",
    "\n",
    "    # 将特征名称和重要性得分进行匹配\n",
    "    feature_importances = list(zip(feature_names, importances))\n",
    "\n",
    "    # 按照重要性得分排序\n",
    "    feature_importances.sort(key=lambda x: x[1], reverse=True)\n",
    "\n",
    "    # 取前十个最重要的特征\n",
    "    top_10_features = feature_importances[:number]\n",
    "\n",
    "    # 获取特征名称和重要性得分列表\n",
    "    top_feature_names = [f[0] for f in top_10_features]\n",
    "    top_importances = [f[1] for f in top_10_features]\n",
    "\n",
    "    # 绘制条形图\n",
    "    plt.bar(range(len(top_importances)), top_importances)\n",
    "    plt.xticks(range(len(top_importances)), top_feature_names, rotation=90)\n",
    "    plt.ylabel('Importance')\n",
    "    plt.xlabel('Feature')\n",
    "    plt.title('Top '+str(number)+' Feature Importances')\n",
    "    plt.show()\n"
   ],
   "metadata": {
    "collapsed": false,
    "pycharm": {
     "name": "#%%\n"
    }
   }
  },
  {
   "cell_type": "code",
   "execution_count": 91,
   "outputs": [
    {
     "data": {
      "text/plain": "<Figure size 640x480 with 1 Axes>",
      "image/png": "[encoded data removed]"
     },
     "metadata": {},
     "output_type": "display_data"
    }
   ],
   "source": [
    "variable_importance(LGBM,30)"
   ],
   "metadata": {
    "collapsed": false,
    "pycharm": {
     "name": "#%%\n"
    }
   }
  },
  {
   "cell_type": "markdown",
   "source": [
    "XGBoost"
   ],
   "metadata": {
    "collapsed": false,
    "pycharm": {
     "name": "#%% md\n"
    }
   }
  },
  {
   "cell_type": "code",
   "execution_count": 86,
   "outputs": [
    {
     "name": "stdout",
     "output_type": "stream",
     "text": [
      "Model with params: {'learning_rate': 0.01, 'max_depth': 1, 'n_estimators': 500, 'random_state': 12308} finished.\n",
      "with out-of-sample R squared on validation set: 2.50460%\n",
      "************************************************************\n",
      "Model with params: {'learning_rate': 0.01, 'max_depth': 1, 'n_estimators': 600, 'random_state': 12308} finished.\n",
      "with out-of-sample R squared on validation set: 2.43554%\n",
      "************************************************************\n",
      "Model with params: {'learning_rate': 0.01, 'max_depth': 1, 'n_estimators': 800, 'random_state': 12308} finished.\n",
      "with out-of-sample R squared on validation set: 2.33797%\n",
      "************************************************************\n",
      "Model with params: {'learning_rate': 0.01, 'max_depth': 1, 'n_estimators': 1000, 'random_state': 12308} finished.\n",
      "with out-of-sample R squared on validation set: 2.02327%\n",
      "************************************************************\n",
      "Model with params: {'learning_rate': 0.01, 'max_depth': 2, 'n_estimators': 500, 'random_state': 12308} finished.\n",
      "with out-of-sample R squared on validation set: 2.45986%\n",
      "************************************************************\n",
      "Model with params: {'learning_rate': 0.01, 'max_depth': 2, 'n_estimators': 600, 'random_state': 12308} finished.\n",
      "with out-of-sample R squared on validation set: 2.08573%\n",
      "************************************************************\n",
      "Model with params: {'learning_rate': 0.01, 'max_depth': 2, 'n_estimators': 800, 'random_state': 12308} finished.\n",
      "with out-of-sample R squared on validation set: 2.07581%\n",
      "************************************************************\n",
      "Model with params: {'learning_rate': 0.01, 'max_depth': 2, 'n_estimators': 1000, 'random_state': 12308} finished.\n",
      "with out-of-sample R squared on validation set: 2.02331%\n",
      "************************************************************\n",
      "\n",
      "############################################################\n",
      "Tuning process finished!!!\n",
      "The best setting is: {'learning_rate': 0.01, 'max_depth': 1, 'n_estimators': 500, 'random_state': 12308}\n",
      "with R2oos 2.50% on validation set.\n",
      "############################################################\n"
     ]
    }
   ],
   "source": [
    "from xgboost import XGBRegressor\n",
    "\n",
    "params = {\n",
    "    'n_estimators': [500,600,800,1000],\n",
    "    'max_depth': [1,2],\n",
    "    'random_state': [12308],\n",
    "    'learning_rate': [.01]\n",
    "}\n",
    "XGB = val_fun(XGBRegressor,params=params,X_trn=X_trn,y_trn=y_trn,X_vld=X_vld,y_vld=y_vld)"
   ],
   "metadata": {
    "collapsed": false,
    "pycharm": {
     "name": "#%%\n"
    }
   }
  },
  {
   "cell_type": "code",
   "execution_count": 87,
   "outputs": [
    {
     "name": "stdout",
     "output_type": "stream",
     "text": [
      "***************In-Sample Metrics***************\n",
      "The in-sample R2 is 10.04%\n",
      "The in-sample MSE is 0.010\n",
      "***************Out-of-Sample Metrics***************\n",
      "The out-of-sample R2 is 2.95%\n",
      "The out-of-sample MSE is 0.008\n"
     ]
    }
   ],
   "source": [
    "evaluate(y_trn, XGB.predict(X_trn), insample=True)\n",
    "evaluate(y_tst, XGB.predict(X_tst))"
   ],
   "metadata": {
    "collapsed": false,
    "pycharm": {
     "name": "#%%\n"
    }
   }
  },
  {
   "cell_type": "code",
   "execution_count": 94,
   "outputs": [
    {
     "data": {
      "text/plain": "<Figure size 640x480 with 1 Axes>",
      "image/png": "[encoded data removed]"
     },
     "metadata": {},
     "output_type": "display_data"
    }
   ],
   "source": [
    "variable_importance(XGB,15)"
   ],
   "metadata": {
    "collapsed": false,
    "pycharm": {
     "name": "#%%\n"
    }
   }
  },
  {
   "cell_type": "markdown",
   "source": [
    "Random Forest"
   ],
   "metadata": {
    "collapsed": false,
    "pycharm": {
     "name": "#%% md\n"
    }
   }
  },
  {
   "cell_type": "code",
   "execution_count": 99,
   "outputs": [
    {
     "name": "stdout",
     "output_type": "stream",
     "text": [
      "Model with params: {'max_depth': 3, 'max_features': 30, 'n_estimators': 300, 'random_state': 12308} finished.\n",
      "with out-of-sample R squared on validation set: 0.00002%\n",
      "************************************************************\n",
      "Model with params: {'max_depth': 3, 'max_features': 50, 'n_estimators': 300, 'random_state': 12308} finished.\n",
      "with out-of-sample R squared on validation set: 0.19903%\n",
      "************************************************************\n",
      "Model with params: {'max_depth': 3, 'max_features': 100, 'n_estimators': 300, 'random_state': 12308} finished.\n",
      "with out-of-sample R squared on validation set: 1.41344%\n",
      "************************************************************\n",
      "Model with params: {'max_depth': 6, 'max_features': 30, 'n_estimators': 300, 'random_state': 12308} finished.\n",
      "with out-of-sample R squared on validation set: 0.02904%\n",
      "************************************************************\n",
      "Model with params: {'max_depth': 6, 'max_features': 50, 'n_estimators': 300, 'random_state': 12308} finished.\n",
      "with out-of-sample R squared on validation set: 1.36041%\n",
      "************************************************************\n",
      "Model with params: {'max_depth': 6, 'max_features': 100, 'n_estimators': 300, 'random_state': 12308} finished.\n",
      "with out-of-sample R squared on validation set: 2.23044%\n",
      "************************************************************\n",
      "\n",
      "############################################################\n",
      "Tuning process finished!!!\n",
      "The best setting is: {'max_depth': 6, 'max_features': 100, 'n_estimators': 300, 'random_state': 12308}\n",
      "with R2oos 2.23% on validation set.\n",
      "############################################################\n"
     ]
    }
   ],
   "source": [
    "from sklearn.ensemble import RandomForestRegressor\n",
    "\n",
    "params = {\n",
    "    'n_estimators': [300],\n",
    "    'max_depth': [3, 6],\n",
    "    'max_features': [30, 50, 100],\n",
    "    'random_state': [12308]\n",
    "}\n",
    "RF = val_fun(RandomForestRegressor,params=params,X_trn=X_trn,y_trn=y_trn,X_vld=X_vld,y_vld=y_vld)"
   ],
   "metadata": {
    "collapsed": false,
    "pycharm": {
     "name": "#%%\n"
    }
   }
  },
  {
   "cell_type": "code",
   "execution_count": 100,
   "outputs": [
    {
     "name": "stdout",
     "output_type": "stream",
     "text": [
      "***************In-Sample Metrics***************\n",
      "The in-sample R2 is 19.75%\n",
      "The in-sample MSE is 0.009\n",
      "***************Out-of-Sample Metrics***************\n",
      "The out-of-sample R2 is 2.75%\n",
      "The out-of-sample MSE is 0.008\n"
     ]
    }
   ],
   "source": [
    "evaluate(y_trn, RF.predict(X_trn), insample=True)\n",
    "evaluate(y_tst, RF.predict(X_tst))"
   ],
   "metadata": {
    "collapsed": false,
    "pycharm": {
     "name": "#%%\n"
    }
   }
  },
  {
   "cell_type": "code",
   "execution_count": 101,
   "outputs": [
    {
     "data": {
      "text/plain": "<Figure size 640x480 with 1 Axes>",
      "image/png": "[encoded data removed]"
     },
     "metadata": {},
     "output_type": "display_data"
    }
   ],
   "source": [
    "variable_importance(RF,30)"
   ],
   "metadata": {
    "collapsed": false,
    "pycharm": {
     "name": "#%%\n"
    }
   }
  },
  {
   "cell_type": "markdown",
   "source": [
    "Neural Network"
   ],
   "metadata": {
    "collapsed": false,
    "pycharm": {
     "name": "#%% md\n"
    }
   }
  },
  {
   "cell_type": "code",
   "execution_count": 95,
   "outputs": [],
   "source": [
    "import random\n",
    "import tensorflow as tf\n",
    "from tensorflow import keras\n",
    "from keras.models import Sequential\n",
    "from keras.layers import Input, Dense, BatchNormalization\n",
    "from keras.regularizers import L1L2\n",
    "from keras.optimizers import Adam\n",
    "\n",
    "# customized metrics\n",
    "# out-of-sample r squared for keras\n",
    "def R_oos_tf(y_true, y_pred):\n",
    "    resid = tf.square(y_true-y_pred)\n",
    "    denom = tf.square(y_true)\n",
    "    return 1 - tf.divide(tf.reduce_mean(resid),tf.reduce_mean(denom))\n",
    "\n",
    "# data standardization\n",
    "# please standardize the data if BatchNormalization is not used\n",
    "def standardize(X_trn, X_vld, X_tst):\n",
    "    mu_trn = np.mean(np.array(X_trn),axis=0).reshape((1,X_trn.shape[1]))\n",
    "    sigma_trn = np.std(np.array(X_trn),axis=0).reshape((1,X_trn.shape[1]))\n",
    "\n",
    "    X_trn_std = (np.array(X_trn)-mu_trn)/sigma_trn\n",
    "    X_vld_std = (np.array(X_vld)-mu_trn)/sigma_trn\n",
    "    X_tst_std = (np.array(X_tst)-mu_trn)/sigma_trn\n",
    "    return X_trn_std, X_vld_std, X_tst_std\n",
    "\n",
    "# NN class\n",
    "class NN:\n",
    "\n",
    "    def __init__(\n",
    "        self, n_layers=1, loss='mse', l1=1e-5, l2=0, learning_rate=.01, BatchNormalization=True, patience=5,\n",
    "        epochs=100, batch_size=3000, verbose=1, random_state=12308, monitor='val_R_oos_tf', base_neurons=5\n",
    "    ):\n",
    "        self.n_layers = n_layers\n",
    "        self.l1 = l1\n",
    "        self.l2 = l2\n",
    "        self.learning_rate = learning_rate\n",
    "        self.BatchNormalization = BatchNormalization\n",
    "        self.patience = patience\n",
    "        self.epochs = epochs\n",
    "        self.batch_size = batch_size\n",
    "        self.verbose = verbose\n",
    "        self.random_state = random_state\n",
    "        self.monitor = monitor\n",
    "        self.base_neurons = base_neurons\n",
    "\n",
    "    def set_params(self, **params):\n",
    "        for param in params.keys():\n",
    "            setattr(self, param, params[param])\n",
    "        return self\n",
    "\n",
    "    def fit(self, X_trn, y_trn, X_vld, y_vld):\n",
    "        # fix random seed for reproducibility\n",
    "        random.seed(self.random_state)\n",
    "        np.random.seed(self.random_state)\n",
    "        tf.random.set_seed(self.random_state)\n",
    "\n",
    "        # model construction\n",
    "        mod = Sequential()\n",
    "        mod.add(Input(shape=(X_trn.shape[1],)))\n",
    "\n",
    "        for i in np.arange(self.n_layers,0,-1):\n",
    "            if self.n_layers>self.base_neurons:\n",
    "                if self.n_layers == i:\n",
    "                    mod.add(Dense(2**i, activation='relu'))\n",
    "                else:\n",
    "                    mod.add(Dense(2**i, activation='relu', kernel_regularizer=L1L2(self.l1,self.l2)))\n",
    "            else:\n",
    "                if self.n_layers == i:\n",
    "                    mod.add(Dense(2**(self.base_neurons-(self.n_layers-i)), activation='relu'))\n",
    "                else:\n",
    "                    mod.add(Dense(2**(self.base_neurons-(self.n_layers-i)),\n",
    "                                  activation='relu', kernel_regularizer=L1L2(self.l1,self.l2)))\n",
    "            if self.BatchNormalization:\n",
    "                mod.add(BatchNormalization())\n",
    "\n",
    "        mod.add(Dense(1, kernel_regularizer=L1L2(self.l1,self.l2)))\n",
    "\n",
    "        # early stopping\n",
    "        earlystop = tf.keras.callbacks.EarlyStopping(monitor=self.monitor, patience=self.patience)\n",
    "\n",
    "        # Adam solver\n",
    "        opt = Adam(learning_rate=self.learning_rate)\n",
    "\n",
    "        # compile the model\n",
    "        mod.compile(loss=self.loss,\n",
    "                    optimizer=opt,\n",
    "                    metrics=[R_oos_tf])\n",
    "\n",
    "        # fit the model\n",
    "        mod.fit(X_trn, np.array(y_trn).reshape((len(y_trn),1)), epochs=self.epochs, batch_size=self.batch_size,\n",
    "                callbacks=[earlystop], verbose=self.verbose,\n",
    "                validation_data=(X_vld,np.array(y_vld).reshape((len(y_vld),1))))\n",
    "\n",
    "        self.model = mod\n",
    "        return self\n",
    "\n",
    "    def predict(self, X):\n",
    "        return self.model.predict(X, verbose=self.verbose)"
   ],
   "metadata": {
    "collapsed": false,
    "pycharm": {
     "name": "#%%\n"
    }
   }
  },
  {
   "cell_type": "code",
   "execution_count": 96,
   "outputs": [
    {
     "name": "stdout",
     "output_type": "stream",
     "text": [
      "Model with params: {'BatchNormalization': True, 'batch_size': 1920, 'epochs': 100, 'l1': 1e-05, 'learning_rate': 0.001, 'loss': 'mse', 'monitor': 'val_loss', 'n_layers': 1, 'patience': 5, 'random_state': 12308, 'verbose': 0} finished.\n",
      "with out-of-sample R squared on validation set: -41.37628%\n",
      "************************************************************\n",
      "Model with params: {'BatchNormalization': True, 'batch_size': 1920, 'epochs': 100, 'l1': 1e-05, 'learning_rate': 0.001, 'loss': 'mse', 'monitor': 'val_R_oos_tf', 'n_layers': 1, 'patience': 5, 'random_state': 12308, 'verbose': 0} finished.\n",
      "with out-of-sample R squared on validation set: 0.01081%\n",
      "************************************************************\n",
      "Model with params: {'BatchNormalization': True, 'batch_size': 1920, 'epochs': 100, 'l1': 1e-05, 'learning_rate': 0.01, 'loss': 'mse', 'monitor': 'val_loss', 'n_layers': 1, 'patience': 5, 'random_state': 12308, 'verbose': 0} finished.\n",
      "with out-of-sample R squared on validation set: 0.21662%\n",
      "************************************************************\n",
      "Model with params: {'BatchNormalization': True, 'batch_size': 1920, 'epochs': 100, 'l1': 1e-05, 'learning_rate': 0.01, 'loss': 'mse', 'monitor': 'val_R_oos_tf', 'n_layers': 1, 'patience': 5, 'random_state': 12308, 'verbose': 0} finished.\n",
      "with out-of-sample R squared on validation set: -11.50004%\n",
      "************************************************************\n",
      "Model with params: {'BatchNormalization': True, 'batch_size': 1920, 'epochs': 100, 'l1': 0.001, 'learning_rate': 0.001, 'loss': 'mse', 'monitor': 'val_loss', 'n_layers': 1, 'patience': 5, 'random_state': 12308, 'verbose': 0} finished.\n",
      "with out-of-sample R squared on validation set: -104.23436%\n",
      "************************************************************\n",
      "Model with params: {'BatchNormalization': True, 'batch_size': 1920, 'epochs': 100, 'l1': 0.001, 'learning_rate': 0.001, 'loss': 'mse', 'monitor': 'val_R_oos_tf', 'n_layers': 1, 'patience': 5, 'random_state': 12308, 'verbose': 0} finished.\n",
      "with out-of-sample R squared on validation set: -15.26143%\n",
      "************************************************************\n",
      "Model with params: {'BatchNormalization': True, 'batch_size': 1920, 'epochs': 100, 'l1': 0.001, 'learning_rate': 0.01, 'loss': 'mse', 'monitor': 'val_loss', 'n_layers': 1, 'patience': 5, 'random_state': 12308, 'verbose': 0} finished.\n",
      "with out-of-sample R squared on validation set: 0.00000%\n",
      "************************************************************\n",
      "Model with params: {'BatchNormalization': True, 'batch_size': 1920, 'epochs': 100, 'l1': 0.001, 'learning_rate': 0.01, 'loss': 'mse', 'monitor': 'val_R_oos_tf', 'n_layers': 1, 'patience': 5, 'random_state': 12308, 'verbose': 0} finished.\n",
      "with out-of-sample R squared on validation set: -0.35990%\n",
      "************************************************************\n",
      "\n",
      "############################################################\n",
      "Tuning process finished!!!\n",
      "The best setting is: {'BatchNormalization': True, 'batch_size': 1920, 'epochs': 100, 'l1': 1e-05, 'learning_rate': 0.01, 'loss': 'mse', 'monitor': 'val_loss', 'n_layers': 1, 'patience': 5, 'random_state': 12308, 'verbose': 0}\n",
      "with R2oos 0.22% on validation set.\n",
      "############################################################\n"
     ]
    }
   ],
   "source": [
    "# NN1-Regression-[32(relu)-1(linear)]\n",
    "\n",
    "params = {\n",
    "    'n_layers': [1],\n",
    "    'loss': ['mse'],\n",
    "    'l1': [1e-5,1e-3],\n",
    "    'learning_rate': [.001,.01],\n",
    "    'batch_size': [int(X_trn.shape[0]/50)],\n",
    "    'epochs': [100],\n",
    "    'random_state': [12308],\n",
    "    'BatchNormalization': [True],\n",
    "    'patience':[5],\n",
    "    'verbose': [0],\n",
    "    'monitor':['val_loss','val_R_oos_tf']\n",
    "}\n",
    "NN1 = val_fun(NN,params=params,X_trn=X_trn,y_trn=y_trn,X_vld=X_vld,y_vld=y_vld,is_NN=True,sleep=5)"
   ],
   "metadata": {
    "collapsed": false,
    "pycharm": {
     "name": "#%%\n"
    }
   }
  },
  {
   "cell_type": "code",
   "execution_count": 97,
   "outputs": [
    {
     "name": "stdout",
     "output_type": "stream",
     "text": [
      "***************In-Sample Metrics***************\n",
      "The in-sample R2 is -180.05%\n",
      "The in-sample MSE is 0.032\n",
      "***************Out-of-Sample Metrics***************\n",
      "The out-of-sample R2 is -21.28%\n",
      "The out-of-sample MSE is 0.010\n"
     ]
    }
   ],
   "source": [
    "evaluate(y_trn, NN1.predict(X_trn), insample=True)\n",
    "evaluate(y_tst, NN1.predict(X_tst))"
   ],
   "metadata": {
    "collapsed": false,
    "pycharm": {
     "name": "#%%\n"
    }
   }
  }
 ],
 "metadata": {
  "kernelspec": {
   "display_name": "Python 3",
   "language": "python",
   "name": "python3"
  },
  "language_info": {
   "codemirror_mode": {
    "name": "ipython",
    "version": 2
   },
   "file_extension": ".py",
   "mimetype": "text/x-python",
   "name": "python",
   "nbconvert_exporter": "python",
   "pygments_lexer": "ipython2",
   "version": "2.7.6"
  }
 },
 "nbformat": 4,
 "nbformat_minor": 0
}
