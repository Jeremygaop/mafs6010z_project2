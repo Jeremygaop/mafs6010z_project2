{
 "cells": [
  {
   "cell_type": "code",
   "execution_count": 38,
   "metadata": {
    "collapsed": true,
    "ExecuteTime": {
     "end_time": "2023-10-28T14:32:33.774748Z",
     "start_time": "2023-10-28T14:32:33.753644Z"
    }
   },
   "outputs": [],
   "source": [
    "import numpy as np\n",
    "import pandas as pd\n",
    "import matplotlib.pyplot as plt\n",
    "import os\n",
    "import gc # garbage collection module to release memory usage in time\n",
    "import time\n",
    "import warnings\n",
    "\n",
    "os.chdir('/Users/jeremy_gp/Desktop/Project2/data')\n",
    "\n",
    "warnings.filterwarnings('ignore')\n",
    "\n",
    "%matplotlib inline"
   ]
  },
  {
   "cell_type": "code",
   "execution_count": 39,
   "outputs": [
    {
     "data": {
      "text/plain": "   permno       DATE       mvel1       RET      prc  SHROUT      beta  \\\n0   10001 2001-01-31   24355.500  0.012821   9.8750    2498  0.037079   \n1   10002 2001-01-31   78332.625  0.088435  10.0000    8526  0.206346   \n2   10012 2001-01-31   39836.000  0.500000   3.0000   20897  2.470629   \n3   10016 2001-01-31  379569.500  0.030726  23.0625   16964  0.449866   \n4   10019 2001-01-31   28945.000  0.071429   3.7500    8270  2.249729   \n\n     betasq     chmom     dolvol  ...  baspread           ill    maxret  \\\n0  0.001375  0.281788   8.395576  ...  0.020711  1.098587e-06  0.027778   \n1  0.042579  0.050021   8.067022  ...  0.033991  6.509871e-06  0.134328   \n2  6.104008 -1.170178  11.360419  ...  0.138777  9.482216e-08  0.129412   \n3  0.202379  0.391222  12.024414  ...  0.054578  5.643552e-08  0.070769   \n4  5.061279  0.203106   9.294773  ...  0.131620  3.206363e-07  0.435897   \n\n     retvol  std_dolvol   std_turn     zerotrade  sic2        bm     bm_ia  \n0  0.017710    0.972710   0.426715  4.200000e+00  49.0  0.868139 -0.104925  \n1  0.054790    1.368962   0.759666  4.200000e+00  60.0  0.680296 -0.152630  \n2  0.075671    0.465917   7.007556  8.756593e-09  36.0  0.061049 -0.397365  \n3  0.040708    1.242227   8.102766  1.833562e-08  38.0  0.287808 -0.227582  \n4  0.120324    0.983488  16.163956  7.497863e-09  38.0  0.552262  0.036872  \n\n[5 rows x 101 columns]",
      "text/html": "<div>\n<style scoped>\n    .dataframe tbody tr th:only-of-type {\n        vertical-align: middle;\n    }\n\n    .dataframe tbody tr th {\n        vertical-align: top;\n    }\n\n    .dataframe thead th {\n        text-align: right;\n    }\n</style>\n<table border=\"1\" class=\"dataframe\">\n  <thead>\n    <tr style=\"text-align: right;\">\n      <th></th>\n      <th>permno</th>\n      <th>DATE</th>\n      <th>mvel1</th>\n      <th>RET</th>\n      <th>prc</th>\n      <th>SHROUT</th>\n      <th>beta</th>\n      <th>betasq</th>\n      <th>chmom</th>\n      <th>dolvol</th>\n      <th>...</th>\n      <th>baspread</th>\n      <th>ill</th>\n      <th>maxret</th>\n      <th>retvol</th>\n      <th>std_dolvol</th>\n      <th>std_turn</th>\n      <th>zerotrade</th>\n      <th>sic2</th>\n      <th>bm</th>\n      <th>bm_ia</th>\n    </tr>\n  </thead>\n  <tbody>\n    <tr>\n      <th>0</th>\n      <td>10001</td>\n      <td>2001-01-31</td>\n      <td>24355.500</td>\n      <td>0.012821</td>\n      <td>9.8750</td>\n      <td>2498</td>\n      <td>0.037079</td>\n      <td>0.001375</td>\n      <td>0.281788</td>\n      <td>8.395576</td>\n      <td>...</td>\n      <td>0.020711</td>\n      <td>1.098587e-06</td>\n      <td>0.027778</td>\n      <td>0.017710</td>\n      <td>0.972710</td>\n      <td>0.426715</td>\n      <td>4.200000e+00</td>\n      <td>49.0</td>\n      <td>0.868139</td>\n      <td>-0.104925</td>\n    </tr>\n    <tr>\n      <th>1</th>\n      <td>10002</td>\n      <td>2001-01-31</td>\n      <td>78332.625</td>\n      <td>0.088435</td>\n      <td>10.0000</td>\n      <td>8526</td>\n      <td>0.206346</td>\n      <td>0.042579</td>\n      <td>0.050021</td>\n      <td>8.067022</td>\n      <td>...</td>\n      <td>0.033991</td>\n      <td>6.509871e-06</td>\n      <td>0.134328</td>\n      <td>0.054790</td>\n      <td>1.368962</td>\n      <td>0.759666</td>\n      <td>4.200000e+00</td>\n      <td>60.0</td>\n      <td>0.680296</td>\n      <td>-0.152630</td>\n    </tr>\n    <tr>\n      <th>2</th>\n      <td>10012</td>\n      <td>2001-01-31</td>\n      <td>39836.000</td>\n      <td>0.500000</td>\n      <td>3.0000</td>\n      <td>20897</td>\n      <td>2.470629</td>\n      <td>6.104008</td>\n      <td>-1.170178</td>\n      <td>11.360419</td>\n      <td>...</td>\n      <td>0.138777</td>\n      <td>9.482216e-08</td>\n      <td>0.129412</td>\n      <td>0.075671</td>\n      <td>0.465917</td>\n      <td>7.007556</td>\n      <td>8.756593e-09</td>\n      <td>36.0</td>\n      <td>0.061049</td>\n      <td>-0.397365</td>\n    </tr>\n    <tr>\n      <th>3</th>\n      <td>10016</td>\n      <td>2001-01-31</td>\n      <td>379569.500</td>\n      <td>0.030726</td>\n      <td>23.0625</td>\n      <td>16964</td>\n      <td>0.449866</td>\n      <td>0.202379</td>\n      <td>0.391222</td>\n      <td>12.024414</td>\n      <td>...</td>\n      <td>0.054578</td>\n      <td>5.643552e-08</td>\n      <td>0.070769</td>\n      <td>0.040708</td>\n      <td>1.242227</td>\n      <td>8.102766</td>\n      <td>1.833562e-08</td>\n      <td>38.0</td>\n      <td>0.287808</td>\n      <td>-0.227582</td>\n    </tr>\n    <tr>\n      <th>4</th>\n      <td>10019</td>\n      <td>2001-01-31</td>\n      <td>28945.000</td>\n      <td>0.071429</td>\n      <td>3.7500</td>\n      <td>8270</td>\n      <td>2.249729</td>\n      <td>5.061279</td>\n      <td>0.203106</td>\n      <td>9.294773</td>\n      <td>...</td>\n      <td>0.131620</td>\n      <td>3.206363e-07</td>\n      <td>0.435897</td>\n      <td>0.120324</td>\n      <td>0.983488</td>\n      <td>16.163956</td>\n      <td>7.497863e-09</td>\n      <td>38.0</td>\n      <td>0.552262</td>\n      <td>0.036872</td>\n    </tr>\n  </tbody>\n</table>\n<p>5 rows × 101 columns</p>\n</div>"
     },
     "execution_count": 39,
     "metadata": {},
     "output_type": "execute_result"
    }
   ],
   "source": [
    "# stdt, nddt = 19570101, 20161231\n",
    "stdt, nddt = 20010101, 20201231\n",
    "\n",
    "# load firm characteristics data\n",
    "data_ch = pd.read_csv('GKX_20201231.csv')\n",
    "data_ch = data_ch[(data_ch['DATE']>=stdt)&(data_ch['DATE']<=nddt)].reset_index(drop=True)\n",
    "data_ch['DATE'] = pd.to_datetime(data_ch['DATE'],format='%Y%m%d')+pd.offsets.MonthEnd(0)\n",
    "characteristics = list(set(data_ch.columns).difference({'permno','DATE','SHROUT','mve0','sic2','RET','prc'}))\n",
    "\n",
    "data_ch.head()"
   ],
   "metadata": {
    "collapsed": false,
    "ExecuteTime": {
     "end_time": "2023-10-28T14:33:19.372079Z",
     "start_time": "2023-10-28T14:32:33.761359Z"
    }
   }
  },
  {
   "cell_type": "code",
   "execution_count": 40,
   "outputs": [],
   "source": [
    "wuxin_data = data_ch[['DATE','permno','RET']]\n",
    "wuxin_data.to_csv('wuxin_data.csv',index=False)"
   ],
   "metadata": {
    "collapsed": false,
    "ExecuteTime": {
     "end_time": "2023-10-28T14:33:22.710018Z",
     "start_time": "2023-10-28T14:33:19.375116Z"
    }
   }
  },
  {
   "cell_type": "code",
   "execution_count": 41,
   "outputs": [],
   "source": [
    "data_ch_top = data_ch.sort_values('mvel1',ascending=False).groupby('DATE').head(1000).reset_index(drop=True)\n",
    "data_ch_bot = data_ch.sort_values('mvel1',ascending=False).groupby('DATE').tail(1000).reset_index(drop=True)"
   ],
   "metadata": {
    "collapsed": false,
    "ExecuteTime": {
     "end_time": "2023-10-28T14:33:25.883868Z",
     "start_time": "2023-10-28T14:33:22.729046Z"
    }
   }
  },
  {
   "cell_type": "code",
   "execution_count": 42,
   "outputs": [
    {
     "data": {
      "text/plain": "permno            0\nDATE              0\nmvel1           276\nRET               0\nprc            7830\n              ...  \nstd_turn        410\nzerotrade       342\nsic2          22532\nbm           375825\nbm_ia        375825\nLength: 101, dtype: int64"
     },
     "execution_count": 42,
     "metadata": {},
     "output_type": "execute_result"
    }
   ],
   "source": [
    "# missing data before filling\n",
    "data_ch.isnull().sum()"
   ],
   "metadata": {
    "collapsed": false,
    "ExecuteTime": {
     "end_time": "2023-10-28T14:33:26.035878Z",
     "start_time": "2023-10-28T14:33:25.897532Z"
    }
   }
  },
  {
   "cell_type": "code",
   "execution_count": 43,
   "outputs": [
    {
     "name": "stdout",
     "output_type": "stream",
     "text": [
      "CPU times: user 12.7 s, sys: 10.3 s, total: 23 s\n",
      "Wall time: 24.7 s\n"
     ]
    }
   ],
   "source": [
    "%%time\n",
    "# fill na with cross-sectional median\n",
    "for ch in characteristics:\n",
    "     data_ch[ch] = data_ch.groupby('DATE')[ch].transform(lambda x: x.fillna(x.median()))"
   ],
   "metadata": {
    "collapsed": false,
    "ExecuteTime": {
     "end_time": "2023-10-28T14:33:50.794020Z",
     "start_time": "2023-10-28T14:33:26.061608Z"
    }
   }
  },
  {
   "cell_type": "code",
   "execution_count": 44,
   "outputs": [
    {
     "data": {
      "text/plain": "permno            0\nDATE              0\nmvel1             0\nRET               0\nprc            7830\n              ...  \nstd_turn          0\nzerotrade         0\nsic2          22532\nbm           104764\nbm_ia        104764\nLength: 101, dtype: int64"
     },
     "execution_count": 44,
     "metadata": {},
     "output_type": "execute_result"
    }
   ],
   "source": [
    "# missing data after filling\n",
    "data_ch.isnull().sum()"
   ],
   "metadata": {
    "collapsed": false,
    "ExecuteTime": {
     "end_time": "2023-10-28T14:33:50.937791Z",
     "start_time": "2023-10-28T14:33:50.794924Z"
    }
   }
  },
  {
   "cell_type": "code",
   "execution_count": 45,
   "outputs": [
    {
     "data": {
      "text/plain": "Index(['prc', 'mve0', 'sic2'], dtype='object')"
     },
     "execution_count": 45,
     "metadata": {},
     "output_type": "execute_result"
    }
   ],
   "source": [
    "for ch in characteristics:\n",
    "     data_ch[ch] = data_ch[ch].fillna(0)\n",
    "\n",
    "data_ch.columns[data_ch.isnull().sum()!=0]"
   ],
   "metadata": {
    "collapsed": false,
    "ExecuteTime": {
     "end_time": "2023-10-28T14:33:51.333624Z",
     "start_time": "2023-10-28T14:33:50.938849Z"
    }
   }
  },
  {
   "cell_type": "code",
   "execution_count": 46,
   "outputs": [],
   "source": [
    "def fill_na(data_ch, characteristics):\n",
    "    for ch in characteristics:\n",
    "         data_ch[ch] = data_ch.groupby('DATE')[ch].transform(lambda x: x.fillna(x.median()))\n",
    "    for ch in characteristics:\n",
    "         data_ch[ch] = data_ch[ch].fillna(0)\n",
    "    return data_ch"
   ],
   "metadata": {
    "collapsed": false,
    "ExecuteTime": {
     "end_time": "2023-10-28T14:33:51.336940Z",
     "start_time": "2023-10-28T14:33:51.334804Z"
    }
   }
  },
  {
   "cell_type": "code",
   "execution_count": 47,
   "outputs": [],
   "source": [
    "data_ch_top = fill_na(data_ch_top, characteristics)\n",
    "data_ch_bot = fill_na(data_ch_bot, characteristics)"
   ],
   "metadata": {
    "collapsed": false,
    "ExecuteTime": {
     "end_time": "2023-10-28T14:34:03.924533Z",
     "start_time": "2023-10-28T14:33:51.337798Z"
    }
   }
  },
  {
   "cell_type": "code",
   "execution_count": 48,
   "outputs": [],
   "source": [
    "# get dummies for SIC code\n",
    "def get_sic_dummies(data_ch):\n",
    "    sic_dummies = pd.get_dummies(data_ch['sic2'].fillna(999).astype(int),prefix='sic').drop('sic_999',axis=1)\n",
    "    data_ch_d = pd.concat([data_ch,sic_dummies],axis=1)\n",
    "    data_ch_d.drop(['prc','SHROUT','mve0','sic2'],inplace=True,axis=1)\n",
    "    return data_ch_d"
   ],
   "metadata": {
    "collapsed": false,
    "ExecuteTime": {
     "end_time": "2023-10-28T14:34:03.928479Z",
     "start_time": "2023-10-28T14:34:03.926168Z"
    }
   }
  },
  {
   "cell_type": "code",
   "execution_count": 49,
   "outputs": [],
   "source": [
    "data_ch_d = get_sic_dummies(data_ch)\n",
    "data_ch_top_d = get_sic_dummies(data_ch_top)\n",
    "data_ch_bot_d = get_sic_dummies(data_ch_bot)"
   ],
   "metadata": {
    "collapsed": false,
    "ExecuteTime": {
     "end_time": "2023-10-28T14:34:06.383886Z",
     "start_time": "2023-10-28T14:34:03.929474Z"
    }
   }
  },
  {
   "cell_type": "code",
   "execution_count": 50,
   "outputs": [
    {
     "data": {
      "text/plain": "      yyyymm     dp_sp     ep_sp     bm_sp      ntis     tbl     tms     dfy  \\\n0 2001-01-31  0.011839  0.035490  0.150450 -0.003193  0.0515  0.0047  0.0078   \n1 2001-02-28  0.012962  0.037873  0.156070 -0.006856  0.0488  0.0061  0.0077   \n2 2001-03-31  0.013766  0.039161  0.133114 -0.005213  0.0442  0.0117  0.0086   \n3 2001-04-30  0.012707  0.034060  0.122497 -0.002543  0.0387  0.0206  0.0087   \n4 2001-05-31  0.012567  0.031592  0.120510 -0.000248  0.0362  0.0232  0.0078   \n\n       svar  \n0  0.004941  \n1  0.002528  \n2  0.007140  \n3  0.007426  \n4  0.002536  ",
      "text/html": "<div>\n<style scoped>\n    .dataframe tbody tr th:only-of-type {\n        vertical-align: middle;\n    }\n\n    .dataframe tbody tr th {\n        vertical-align: top;\n    }\n\n    .dataframe thead th {\n        text-align: right;\n    }\n</style>\n<table border=\"1\" class=\"dataframe\">\n  <thead>\n    <tr style=\"text-align: right;\">\n      <th></th>\n      <th>yyyymm</th>\n      <th>dp_sp</th>\n      <th>ep_sp</th>\n      <th>bm_sp</th>\n      <th>ntis</th>\n      <th>tbl</th>\n      <th>tms</th>\n      <th>dfy</th>\n      <th>svar</th>\n    </tr>\n  </thead>\n  <tbody>\n    <tr>\n      <th>0</th>\n      <td>2001-01-31</td>\n      <td>0.011839</td>\n      <td>0.035490</td>\n      <td>0.150450</td>\n      <td>-0.003193</td>\n      <td>0.0515</td>\n      <td>0.0047</td>\n      <td>0.0078</td>\n      <td>0.004941</td>\n    </tr>\n    <tr>\n      <th>1</th>\n      <td>2001-02-28</td>\n      <td>0.012962</td>\n      <td>0.037873</td>\n      <td>0.156070</td>\n      <td>-0.006856</td>\n      <td>0.0488</td>\n      <td>0.0061</td>\n      <td>0.0077</td>\n      <td>0.002528</td>\n    </tr>\n    <tr>\n      <th>2</th>\n      <td>2001-03-31</td>\n      <td>0.013766</td>\n      <td>0.039161</td>\n      <td>0.133114</td>\n      <td>-0.005213</td>\n      <td>0.0442</td>\n      <td>0.0117</td>\n      <td>0.0086</td>\n      <td>0.007140</td>\n    </tr>\n    <tr>\n      <th>3</th>\n      <td>2001-04-30</td>\n      <td>0.012707</td>\n      <td>0.034060</td>\n      <td>0.122497</td>\n      <td>-0.002543</td>\n      <td>0.0387</td>\n      <td>0.0206</td>\n      <td>0.0087</td>\n      <td>0.007426</td>\n    </tr>\n    <tr>\n      <th>4</th>\n      <td>2001-05-31</td>\n      <td>0.012567</td>\n      <td>0.031592</td>\n      <td>0.120510</td>\n      <td>-0.000248</td>\n      <td>0.0362</td>\n      <td>0.0232</td>\n      <td>0.0078</td>\n      <td>0.002536</td>\n    </tr>\n  </tbody>\n</table>\n</div>"
     },
     "execution_count": 50,
     "metadata": {},
     "output_type": "execute_result"
    }
   ],
   "source": [
    "# load macroeconomic predictors data\n",
    "data_ma = pd.read_csv('/Users/jeremy_gp/Desktop/Project2/data/PredictorData/PredictorData2022.csv')\n",
    "data_ma = data_ma[(data_ma['yyyymm']>=stdt//100)&(data_ma['yyyymm']<=nddt//100)].reset_index(drop=True)\n",
    "\n",
    "# construct predictor\n",
    "ma_predictors = ['dp_sp','ep_sp','bm_sp','ntis','tbl','tms','dfy','svar']\n",
    "data_ma['Index'] = data_ma['Index'].str.replace(',','').astype('float64')\n",
    "data_ma['dp_sp'] = data_ma['D12']/data_ma['Index']\n",
    "data_ma['ep_sp'] = data_ma['E12']/data_ma['Index']\n",
    "data_ma.rename({'b/m':'bm_sp'},axis=1,inplace=True)\n",
    "data_ma['tms'] = data_ma['lty']-data_ma['tbl']\n",
    "data_ma['dfy'] = data_ma['BAA']-data_ma['AAA']\n",
    "data_ma = data_ma[['yyyymm']+ma_predictors]\n",
    "data_ma['yyyymm'] = pd.to_datetime(data_ma['yyyymm'],format='%Y%m')+pd.offsets.MonthEnd(0)\n",
    "data_ma.head()"
   ],
   "metadata": {
    "collapsed": false,
    "ExecuteTime": {
     "end_time": "2023-10-28T14:34:06.408874Z",
     "start_time": "2023-10-28T14:34:06.387136Z"
    }
   }
  },
  {
   "cell_type": "code",
   "execution_count": 51,
   "outputs": [],
   "source": [
    "from sklearn.preprocessing import MinMaxScaler\n",
    "\n",
    "def interactions(data_ch, data_ma, characteristics, ma_predictors, minmax=True):\n",
    "    # construct interactions between firm characteristics and macroeconomic predictors\n",
    "    data = data_ch.copy()\n",
    "    data_ma_long = pd.merge(data[['DATE']],data_ma,left_on='DATE',right_on='yyyymm',how='left')\n",
    "    data = data.reset_index(drop=True)\n",
    "    data_ma_long = data_ma_long.reset_index(drop=True)\n",
    "    for fc in characteristics:\n",
    "        for mp in ma_predictors:\n",
    "            data[fc+'*'+mp] = data[fc]*data_ma_long[mp]\n",
    "\n",
    "    features = list(set(data.columns).difference({'permno','DATE','RET'})) # a list storing all 920 features used\n",
    "    if minmax:\n",
    "        X = MinMaxScaler((-1,1)).fit_transform(data[features])\n",
    "        X = pd.DataFrame(X, columns=features)\n",
    "    else:\n",
    "        X = data[features]\n",
    "    y = data['RET']\n",
    "    print(f\"The shape of the data is: {data.shape}\")\n",
    "    return X, y"
   ],
   "metadata": {
    "collapsed": false,
    "ExecuteTime": {
     "end_time": "2023-10-28T14:34:06.418584Z",
     "start_time": "2023-10-28T14:34:06.409846Z"
    }
   }
  },
  {
   "cell_type": "code",
   "execution_count": 52,
   "outputs": [],
   "source": [
    "# stdt_vld = np.datetime64('1975-01-31')\n",
    "# stdt_tst = np.datetime64('1987-01-31')\n",
    "stdt_vld = np.datetime64('2009-01-31')\n",
    "stdt_tst = np.datetime64('2015-01-31')\n",
    "\n",
    "def trn_vld_tst(data):\n",
    "\n",
    "    # training setstdt_vld = np.datetime64('2001-01-31')\n",
    "    X_trn, y_trn = interactions(data[data['DATE']<stdt_vld],data_ma[data_ma['yyyymm']<stdt_vld],characteristics,ma_predictors)\n",
    "\n",
    "    # validation set\n",
    "    X_vld, y_vld = interactions(data[(data['DATE']<stdt_tst)&(data['DATE']>=stdt_vld)],data_ma[(data_ma['yyyymm']<stdt_tst)&(data_ma['yyyymm']>=stdt_vld)],characteristics,ma_predictors)\n",
    "\n",
    "    # testing set\n",
    "    X_tst, y_tst = interactions(data[data['DATE']>=stdt_tst],data_ma[data_ma['yyyymm']>=stdt_tst],characteristics,ma_predictors)\n",
    "    return X_trn, X_vld, X_tst, y_trn, y_vld, y_tst"
   ],
   "metadata": {
    "collapsed": false,
    "ExecuteTime": {
     "end_time": "2023-10-28T14:34:06.418764Z",
     "start_time": "2023-10-28T14:34:06.414355Z"
    }
   }
  },
  {
   "cell_type": "code",
   "execution_count": 53,
   "outputs": [
    {
     "name": "stdout",
     "output_type": "stream",
     "text": [
      "The shape of the data is: (96000, 915)\n",
      "The shape of the data is: (72000, 915)\n",
      "The shape of the data is: (72000, 915)\n",
      "CPU times: user 2.37 s, sys: 2.27 s, total: 4.64 s\n",
      "Wall time: 5.83 s\n"
     ]
    }
   ],
   "source": [
    "%%time\n",
    "X_trn, X_vld, X_tst, y_trn, y_vld, y_tst = trn_vld_tst(data_ch_top_d)"
   ],
   "metadata": {
    "collapsed": false,
    "ExecuteTime": {
     "end_time": "2023-10-28T14:34:12.254533Z",
     "start_time": "2023-10-28T14:34:06.419744Z"
    }
   }
  },
  {
   "cell_type": "code",
   "execution_count": 54,
   "outputs": [
    {
     "data": {
      "text/plain": "   chmom*dp_sp   ep*svar  cinvest*svar  grcapx*svar  saleinv*tms  sic_23  \\\n0    -0.103484  0.721112      0.593782    -0.889999    -0.824445    -1.0   \n1    -0.029352  0.721517      0.593782    -0.890094    -0.809903    -1.0   \n2    -0.031039  0.722085      0.593782    -0.888986    -0.824841    -1.0   \n3     0.030225  0.720729      0.593789    -0.884837    -0.820586    -1.0   \n4    -0.012957  0.725438      0.593773    -0.887302    -0.819556    -1.0   \n\n    idiovol  operprof*ntis  salecash  std_turn  ...  rd_mve*tbl  \\\n0 -0.742554       0.532486 -0.992052 -0.897411  ...   -0.920812   \n1 -0.854983       0.518865 -0.992289 -0.986757  ...   -0.961934   \n2 -0.816700       0.524895 -0.885929 -0.980934  ...   -1.000000   \n3 -0.739531       0.539490 -0.991129 -0.975886  ...   -0.997726   \n4 -0.711758       0.526025 -0.915678 -0.984042  ...   -0.994849   \n\n   pchgm_pchsale*tms  herf*tms   gma*dfy  pchsale_pchrect*tms  betasq*ntis  \\\n0           0.395047 -0.920474 -0.498544             0.364757     0.108676   \n1           0.395897 -0.871193 -0.603030             0.358424     0.101824   \n2           0.394993 -0.770311 -0.398834             0.351413     0.088484   \n3           0.397029 -0.919492 -0.462679             0.357160     0.108789   \n4           0.395343 -0.889217 -0.521998             0.365999     0.076916   \n\n   beta*dfy  maxret*ep_sp  std_turn*dp_sp  currat*dfy  \n0 -0.388276     -0.903560       -0.935834   -0.982410  \n1 -0.361263     -0.895688       -0.991717   -0.984835  \n2 -0.320317     -0.934565       -0.988075   -0.992387  \n3 -0.388783     -0.848018       -0.984917   -0.991163  \n4 -0.291398     -0.882483       -0.990019   -0.994350  \n\n[5 rows x 912 columns]",
      "text/html": "<div>\n<style scoped>\n    .dataframe tbody tr th:only-of-type {\n        vertical-align: middle;\n    }\n\n    .dataframe tbody tr th {\n        vertical-align: top;\n    }\n\n    .dataframe thead th {\n        text-align: right;\n    }\n</style>\n<table border=\"1\" class=\"dataframe\">\n  <thead>\n    <tr style=\"text-align: right;\">\n      <th></th>\n      <th>chmom*dp_sp</th>\n      <th>ep*svar</th>\n      <th>cinvest*svar</th>\n      <th>grcapx*svar</th>\n      <th>saleinv*tms</th>\n      <th>sic_23</th>\n      <th>idiovol</th>\n      <th>operprof*ntis</th>\n      <th>salecash</th>\n      <th>std_turn</th>\n      <th>...</th>\n      <th>rd_mve*tbl</th>\n      <th>pchgm_pchsale*tms</th>\n      <th>herf*tms</th>\n      <th>gma*dfy</th>\n      <th>pchsale_pchrect*tms</th>\n      <th>betasq*ntis</th>\n      <th>beta*dfy</th>\n      <th>maxret*ep_sp</th>\n      <th>std_turn*dp_sp</th>\n      <th>currat*dfy</th>\n    </tr>\n  </thead>\n  <tbody>\n    <tr>\n      <th>0</th>\n      <td>-0.103484</td>\n      <td>0.721112</td>\n      <td>0.593782</td>\n      <td>-0.889999</td>\n      <td>-0.824445</td>\n      <td>-1.0</td>\n      <td>-0.742554</td>\n      <td>0.532486</td>\n      <td>-0.992052</td>\n      <td>-0.897411</td>\n      <td>...</td>\n      <td>-0.920812</td>\n      <td>0.395047</td>\n      <td>-0.920474</td>\n      <td>-0.498544</td>\n      <td>0.364757</td>\n      <td>0.108676</td>\n      <td>-0.388276</td>\n      <td>-0.903560</td>\n      <td>-0.935834</td>\n      <td>-0.982410</td>\n    </tr>\n    <tr>\n      <th>1</th>\n      <td>-0.029352</td>\n      <td>0.721517</td>\n      <td>0.593782</td>\n      <td>-0.890094</td>\n      <td>-0.809903</td>\n      <td>-1.0</td>\n      <td>-0.854983</td>\n      <td>0.518865</td>\n      <td>-0.992289</td>\n      <td>-0.986757</td>\n      <td>...</td>\n      <td>-0.961934</td>\n      <td>0.395897</td>\n      <td>-0.871193</td>\n      <td>-0.603030</td>\n      <td>0.358424</td>\n      <td>0.101824</td>\n      <td>-0.361263</td>\n      <td>-0.895688</td>\n      <td>-0.991717</td>\n      <td>-0.984835</td>\n    </tr>\n    <tr>\n      <th>2</th>\n      <td>-0.031039</td>\n      <td>0.722085</td>\n      <td>0.593782</td>\n      <td>-0.888986</td>\n      <td>-0.824841</td>\n      <td>-1.0</td>\n      <td>-0.816700</td>\n      <td>0.524895</td>\n      <td>-0.885929</td>\n      <td>-0.980934</td>\n      <td>...</td>\n      <td>-1.000000</td>\n      <td>0.394993</td>\n      <td>-0.770311</td>\n      <td>-0.398834</td>\n      <td>0.351413</td>\n      <td>0.088484</td>\n      <td>-0.320317</td>\n      <td>-0.934565</td>\n      <td>-0.988075</td>\n      <td>-0.992387</td>\n    </tr>\n    <tr>\n      <th>3</th>\n      <td>0.030225</td>\n      <td>0.720729</td>\n      <td>0.593789</td>\n      <td>-0.884837</td>\n      <td>-0.820586</td>\n      <td>-1.0</td>\n      <td>-0.739531</td>\n      <td>0.539490</td>\n      <td>-0.991129</td>\n      <td>-0.975886</td>\n      <td>...</td>\n      <td>-0.997726</td>\n      <td>0.397029</td>\n      <td>-0.919492</td>\n      <td>-0.462679</td>\n      <td>0.357160</td>\n      <td>0.108789</td>\n      <td>-0.388783</td>\n      <td>-0.848018</td>\n      <td>-0.984917</td>\n      <td>-0.991163</td>\n    </tr>\n    <tr>\n      <th>4</th>\n      <td>-0.012957</td>\n      <td>0.725438</td>\n      <td>0.593773</td>\n      <td>-0.887302</td>\n      <td>-0.819556</td>\n      <td>-1.0</td>\n      <td>-0.711758</td>\n      <td>0.526025</td>\n      <td>-0.915678</td>\n      <td>-0.984042</td>\n      <td>...</td>\n      <td>-0.994849</td>\n      <td>0.395343</td>\n      <td>-0.889217</td>\n      <td>-0.521998</td>\n      <td>0.365999</td>\n      <td>0.076916</td>\n      <td>-0.291398</td>\n      <td>-0.882483</td>\n      <td>-0.990019</td>\n      <td>-0.994350</td>\n    </tr>\n  </tbody>\n</table>\n<p>5 rows × 912 columns</p>\n</div>"
     },
     "execution_count": 54,
     "metadata": {},
     "output_type": "execute_result"
    }
   ],
   "source": [
    "X_trn.head()"
   ],
   "metadata": {
    "collapsed": false,
    "ExecuteTime": {
     "end_time": "2023-10-28T14:34:12.263411Z",
     "start_time": "2023-10-28T14:34:12.260580Z"
    }
   }
  },
  {
   "cell_type": "code",
   "execution_count": 55,
   "outputs": [
    {
     "data": {
      "text/plain": "0"
     },
     "execution_count": 55,
     "metadata": {},
     "output_type": "execute_result"
    }
   ],
   "source": [
    "gc.collect()\n"
   ],
   "metadata": {
    "collapsed": false,
    "ExecuteTime": {
     "end_time": "2023-10-28T14:34:12.374805Z",
     "start_time": "2023-10-28T14:34:12.371076Z"
    }
   }
  },
  {
   "cell_type": "code",
   "execution_count": 56,
   "outputs": [],
   "source": [
    "from sklearn.metrics import mean_squared_error, r2_score\n",
    "from sklearn.model_selection import ParameterGrid\n",
    "\n",
    "# Loss Function\n",
    "# Huber objective function\n",
    "def huber(actual, predicted, xi):\n",
    "    actual, predicted = np.array(actual).flatten(), np.array(predicted).flatten()\n",
    "    resid = actual - predicted\n",
    "    huber_loss = np.where(np.abs(resid)<=xi, resid**2, 2*xi*np.abs(resid)-xi**2)\n",
    "    return np.mean(huber_loss)\n",
    "\n",
    "# Scoring Function\n",
    "# out-of-sample R squared\n",
    "def R_oos(actual, predicted):\n",
    "    actual, predicted = np.array(actual), np.array(predicted).flatten()\n",
    "    predicted = np.where(predicted<0,0,predicted)\n",
    "    return 1 - (np.dot((actual-predicted),(actual-predicted)))/(np.dot(actual,actual))\n",
    "\n",
    "# Validation Function\n",
    "def val_fun(model, params: dict, X_trn, y_trn, X_vld, y_vld, illustration=True, sleep=0, is_NN=False):\n",
    "    best_ros = None\n",
    "    lst_params = list(ParameterGrid(params))\n",
    "    for param in lst_params:\n",
    "        if best_ros == None:\n",
    "            if is_NN:\n",
    "                mod = model().set_params(**param).fit(X_trn, y_trn, X_vld, y_vld)\n",
    "            else:\n",
    "                mod = model().set_params(**param).fit(X_trn, y_trn)\n",
    "            best_mod = mod\n",
    "            y_pred = mod.predict(X_vld)\n",
    "            best_ros = R_oos(y_vld, y_pred)\n",
    "            best_param = param\n",
    "            if illustration:\n",
    "                print(f'Model with params: {param} finished.')\n",
    "                print(f'with out-of-sample R squared on validation set: {best_ros*100:.5f}%')\n",
    "                print('*'*60)\n",
    "        else:\n",
    "            time.sleep(sleep)\n",
    "            if is_NN:\n",
    "                mod = model().set_params(**param).fit(X_trn, y_trn, X_vld, y_vld)\n",
    "            else:\n",
    "                mod = model().set_params(**param).fit(X_trn, y_trn)\n",
    "            y_pred = mod.predict(X_vld)\n",
    "            ros = R_oos(y_vld, y_pred)\n",
    "            if illustration:\n",
    "                print(f'Model with params: {param} finished.')\n",
    "                print(f'with out-of-sample R squared on validation set: {ros*100:.5f}%')\n",
    "                print('*'*60)\n",
    "            if ros > best_ros:\n",
    "                best_ros = ros\n",
    "                best_mod = mod\n",
    "                best_param = param\n",
    "    if illustration:\n",
    "        print('\\n'+'#'*60)\n",
    "        print('Tuning process finished!!!')\n",
    "        print(f'The best setting is: {best_param}')\n",
    "        print(f'with R2oos {best_ros*100:.2f}% on validation set.')\n",
    "        print('#'*60)\n",
    "    return best_mod\n",
    "\n",
    "\n",
    "# Pairwise Comparison\n",
    "# Diebold-Mariano test statistics\n",
    "\n",
    "# Evaluation Output\n",
    "def evaluate(actual, predicted, insample=False):\n",
    "    if insample:\n",
    "        print('*'*15+'In-Sample Metrics'+'*'*15)\n",
    "        print(f'The in-sample R2 is {r2_score(actual,predicted)*100:.2f}%')\n",
    "        print(f'The in-sample MSE is {mean_squared_error(actual,predicted):.3f}')\n",
    "    else:\n",
    "        print('*'*15+'Out-of-Sample Metrics'+'*'*15)\n",
    "        print(f'The out-of-sample R2 is {R_oos(actual,predicted)*100:.2f}%')\n",
    "        print(f'The out-of-sample MSE is {mean_squared_error(actual,predicted):.3f}')"
   ],
   "metadata": {
    "collapsed": false,
    "ExecuteTime": {
     "end_time": "2023-10-28T14:34:12.386346Z",
     "start_time": "2023-10-28T14:34:12.373858Z"
    }
   }
  },
  {
   "cell_type": "code",
   "execution_count": 57,
   "outputs": [
    {
     "name": "stdout",
     "output_type": "stream",
     "text": [
      "***************In-Sample Metrics***************\n",
      "The in-sample R2 is 19.40%\n",
      "The in-sample MSE is 0.009\n",
      "***************Out-of-Sample Metrics***************\n",
      "The out-of-sample R2 is -86.03%\n",
      "The out-of-sample MSE is 0.054\n",
      "CPU times: user 43.8 s, sys: 31.1 s, total: 1min 14s\n",
      "Wall time: 22.8 s\n"
     ]
    }
   ],
   "source": [
    "%%time\n",
    "time.sleep(10)\n",
    "from sklearn.linear_model import LinearRegression\n",
    "\n",
    "# OLS with all features\n",
    "OLS = LinearRegression().fit(X_trn,y_trn)\n",
    "evaluate(y_trn, OLS.predict(X_trn), insample=True)\n",
    "evaluate(y_tst, OLS.predict(X_tst))"
   ],
   "metadata": {
    "collapsed": false,
    "ExecuteTime": {
     "end_time": "2023-10-28T14:34:35.224344Z",
     "start_time": "2023-10-28T14:34:12.384337Z"
    }
   }
  },
  {
   "cell_type": "code",
   "execution_count": 58,
   "outputs": [
    {
     "name": "stdout",
     "output_type": "stream",
     "text": [
      "***************In-Sample Metrics***************\n",
      "The in-sample R2 is 0.45%\n",
      "The in-sample MSE is 0.011\n",
      "***************Out-of-Sample Metrics***************\n",
      "The out-of-sample R2 is 0.45%\n",
      "The out-of-sample MSE is 0.009\n",
      "CPU times: user 127 ms, sys: 244 ms, total: 371 ms\n",
      "Wall time: 61 ms\n"
     ]
    }
   ],
   "source": [
    "%%time\n",
    "from sklearn.linear_model import LinearRegression\n",
    "\n",
    "# OLS with preselected size, bm, and momentum covariates\n",
    "features_3 = ['mvel1','bm','mom1m','mom6m','mom12m','mom36m']\n",
    "OLS_3 = LinearRegression().fit(X_trn[features_3],y_trn)\n",
    "evaluate(y_trn, OLS_3.predict(X_trn[features_3]), insample=True)\n",
    "evaluate(y_tst, OLS_3.predict(X_tst[features_3]))"
   ],
   "metadata": {
    "collapsed": false,
    "ExecuteTime": {
     "end_time": "2023-10-28T14:34:35.290438Z",
     "start_time": "2023-10-28T14:34:35.229932Z"
    }
   }
  },
  {
   "cell_type": "code",
   "execution_count": 59,
   "outputs": [
    {
     "data": {
      "text/plain": "0"
     },
     "execution_count": 59,
     "metadata": {},
     "output_type": "execute_result"
    }
   ],
   "source": [
    "gc.collect()"
   ],
   "metadata": {
    "collapsed": false,
    "ExecuteTime": {
     "end_time": "2023-10-28T14:34:35.423104Z",
     "start_time": "2023-10-28T14:34:35.420278Z"
    }
   }
  },
  {
   "cell_type": "code",
   "execution_count": 60,
   "outputs": [
    {
     "name": "stdout",
     "output_type": "stream",
     "text": [
      "***************In-Sample Metrics***************\n",
      "The in-sample R2 is 13.48%\n",
      "The in-sample MSE is 0.010\n",
      "***************Out-of-Sample Metrics***************\n",
      "The out-of-sample R2 is -3.05%\n",
      "The out-of-sample MSE is 0.010\n",
      "CPU times: user 2min 24s, sys: 2min 49s, total: 5min 13s\n",
      "Wall time: 55.3 s\n"
     ]
    }
   ],
   "source": [
    "%%time\n",
    "time.sleep(10)\n",
    "from sklearn.linear_model import HuberRegressor\n",
    "\n",
    "# OLS by Huber robust objective function with all features\n",
    "epsilon = np.max(((y_trn-OLS.predict(X_trn)).quantile(.999),1))\n",
    "OLS_H = HuberRegressor(epsilon=epsilon).fit(X_trn,y_trn)\n",
    "evaluate(y_trn, OLS_H.predict(X_trn), insample=True)\n",
    "evaluate(y_tst, OLS_H.predict(X_tst))"
   ],
   "metadata": {
    "collapsed": false,
    "ExecuteTime": {
     "end_time": "2023-10-28T14:35:30.764655Z",
     "start_time": "2023-10-28T14:34:35.424503Z"
    }
   }
  },
  {
   "cell_type": "code",
   "execution_count": 61,
   "outputs": [
    {
     "name": "stdout",
     "output_type": "stream",
     "text": [
      "***************In-Sample Metrics***************\n",
      "The in-sample R2 is 0.23%\n",
      "The in-sample MSE is 0.011\n",
      "***************Out-of-Sample Metrics***************\n",
      "The out-of-sample R2 is 0.61%\n",
      "The out-of-sample MSE is 0.009\n",
      "CPU times: user 487 ms, sys: 855 ms, total: 1.34 s\n",
      "Wall time: 221 ms\n"
     ]
    }
   ],
   "source": [
    "%%time\n",
    "from sklearn.linear_model import HuberRegressor\n",
    "\n",
    "# OLS by Huber robust objective function\n",
    "# with preselected size, bm, and momentum covariates\n",
    "epsilon = np.max(((y_trn-OLS_3.predict(X_trn[features_3])).quantile(.999),1))\n",
    "features_3 = ['mvel1','bm','mom1m','mom6m','mom12m','mom36m']\n",
    "OLS_H_3 = HuberRegressor(epsilon=epsilon).fit(X_trn[features_3],y_trn)\n",
    "\n",
    "evaluate(y_trn, OLS_H_3.predict(X_trn[features_3]), insample=True)\n",
    "evaluate(y_tst, OLS_H_3.predict(X_tst[features_3]))"
   ],
   "metadata": {
    "collapsed": false,
    "ExecuteTime": {
     "end_time": "2023-10-28T14:35:30.990373Z",
     "start_time": "2023-10-28T14:35:30.767825Z"
    }
   }
  },
  {
   "cell_type": "code",
   "execution_count": 62,
   "outputs": [
    {
     "data": {
      "text/plain": "57"
     },
     "execution_count": 62,
     "metadata": {},
     "output_type": "execute_result"
    }
   ],
   "source": [
    "gc.collect()"
   ],
   "metadata": {
    "collapsed": false,
    "ExecuteTime": {
     "end_time": "2023-10-28T14:35:31.074233Z",
     "start_time": "2023-10-28T14:35:31.071750Z"
    }
   }
  },
  {
   "cell_type": "code",
   "execution_count": 70,
   "outputs": [
    {
     "name": "stdout",
     "output_type": "stream",
     "text": [
      "Model with params: {'alpha': 0.0001} finished.\n",
      "with out-of-sample R squared on validation set: -84.01906%\n",
      "************************************************************\n",
      "Model with params: {'alpha': 0.1} finished.\n",
      "with out-of-sample R squared on validation set: 0.62828%\n",
      "************************************************************\n",
      "\n",
      "############################################################\n",
      "Tuning process finished!!!\n",
      "The best setting is: {'alpha': 0.1}\n",
      "with R2oos 0.63% on validation set.\n",
      "############################################################\n"
     ]
    },
    {
     "name": "stderr",
     "output_type": "stream",
     "text": [
      "UsageError: Line magic function `%%time` not found.\n"
     ]
    }
   ],
   "source": [
    "time.sleep(10)\n",
    "from sklearn.linear_model import ElasticNet\n",
    "\n",
    "params = {'alpha':[1e-4,.1]}\n",
    "EN_sk = val_fun(ElasticNet,params=params,X_trn=X_trn,y_trn=y_trn,X_vld=X_vld,y_vld=y_vld)\n",
    "\n",
    "# %%time\n",
    "evaluate(y_trn, EN_sk.predict(X_trn), insample=True)\n",
    "evaluate(y_tst, EN_sk.predict(X_tst))"
   ],
   "metadata": {
    "collapsed": false,
    "ExecuteTime": {
     "end_time": "2023-10-29T12:38:37.367151Z",
     "start_time": "2023-10-29T12:38:00.227867Z"
    }
   }
  }
 ],
 "metadata": {
  "kernelspec": {
   "display_name": "Python 3",
   "language": "python",
   "name": "python3"
  },
  "language_info": {
   "codemirror_mode": {
    "name": "ipython",
    "version": 2
   },
   "file_extension": ".py",
   "mimetype": "text/x-python",
   "name": "python",
   "nbconvert_exporter": "python",
   "pygments_lexer": "ipython2",
   "version": "2.7.6"
  }
 },
 "nbformat": 4,
 "nbformat_minor": 0
}
